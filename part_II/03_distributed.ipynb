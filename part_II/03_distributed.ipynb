{
 "cells": [
  {
   "cell_type": "markdown",
   "metadata": {
    "slideshow": {
     "slide_type": "slide"
    }
   },
   "source": [
    "\n",
    "# Schedulers"
   ]
  },
  {
   "cell_type": "markdown",
   "metadata": {
    "slideshow": {
     "slide_type": "slide"
    }
   },
   "source": [
    "## Dask's schedulers\n",
    "\n",
    "- \"threaded\": a scheduler backed by a thread pool\n",
    "- \"processes\": a scheduler backed by a process pool\n",
    "- \"single-threaded\" (aka \"sync\"): a synchronous scheduler, good for debugging\n",
    "- distributed: a distributed scheduler for executing graphs on multiple machines, see below."
   ]
  },
  {
   "cell_type": "markdown",
   "metadata": {
    "slideshow": {
     "slide_type": "slide"
    }
   },
   "source": [
    "## Select a scheduler\n",
    "\n",
    "```python\n",
    "with dask.config.set(scheduler='processes'):\n",
    "    # set temporarily fo this block only\n",
    "    myvalue.compute()\n",
    "\n",
    "dask.config.set(scheduler='processes')\n",
    "# set until further notice\n",
    "```"
   ]
  },
  {
   "cell_type": "markdown",
   "metadata": {
    "slideshow": {
     "slide_type": "slide"
    }
   },
   "source": [
    "## Making a cluster\n",
    "\n",
    "* Locally using `LocalCluster` class\n",
    "* Kubernetes using https://github.com/dask/dask-kubernetes\n",
    "* Job schedulers like PBS, SLURM, and SGE https://dask-jobqueue.readthedocs.io\n",
    "* Start `dask-scheduler` and `dask-worker` explicitly"
   ]
  },
  {
   "cell_type": "code",
   "execution_count": 1,
   "metadata": {
    "slideshow": {
     "slide_type": "slide"
    }
   },
   "outputs": [
    {
     "data": {
      "application/vnd.jupyter.widget-view+json": {
       "model_id": "5471bac53b9046e8b7dc6e1b6210a8dc",
       "version_major": 2,
       "version_minor": 0
      },
      "text/plain": [
       "VBox(children=(HTML(value='<h2>LocalCluster</h2>'), HBox(children=(HTML(value='\\n<div>\\n  <style scoped>\\n    …"
      ]
     },
     "metadata": {},
     "output_type": "display_data"
    }
   ],
   "source": [
    "from dask.distributed import Client, LocalCluster\n",
    "\n",
    "cluster = LocalCluster(\n",
    "    dashboard_address=\"0.0.0.0:8000\",\n",
    "    n_workers=4,\n",
    "    threads_per_worker=2\n",
    ")\n",
    "cluster"
   ]
  },
  {
   "cell_type": "code",
   "execution_count": 2,
   "metadata": {
    "slideshow": {
     "slide_type": "slide"
    }
   },
   "outputs": [
    {
     "data": {
      "text/html": [
       "<table style=\"border: 2px solid white;\">\n",
       "<tr>\n",
       "<td style=\"vertical-align: top; border: 0px solid white\">\n",
       "<h3 style=\"text-align: left;\">Client</h3>\n",
       "<ul style=\"text-align: left; list-style: none; margin: 0; padding: 0;\">\n",
       "  <li><b>Scheduler: </b>tcp://127.0.0.1:39493</li>\n",
       "  <li><b>Dashboard: </b><a href='http://127.0.0.1:8000/status' target='_blank'>http://127.0.0.1:8000/status</a>\n",
       "</ul>\n",
       "</td>\n",
       "<td style=\"vertical-align: top; border: 0px solid white\">\n",
       "<h3 style=\"text-align: left;\">Cluster</h3>\n",
       "<ul style=\"text-align: left; list-style:none; margin: 0; padding: 0;\">\n",
       "  <li><b>Workers: </b>4</li>\n",
       "  <li><b>Cores: </b>8</li>\n",
       "  <li><b>Memory: </b>16.82 GB</li>\n",
       "</ul>\n",
       "</td>\n",
       "</tr>\n",
       "</table>"
      ],
      "text/plain": [
       "<Client: scheduler='tcp://127.0.0.1:39493' processes=4 cores=8>"
      ]
     },
     "execution_count": 2,
     "metadata": {},
     "output_type": "execute_result"
    }
   ],
   "source": [
    "client = Client(cluster)\n",
    "client"
   ]
  },
  {
   "cell_type": "markdown",
   "metadata": {
    "slideshow": {
     "slide_type": "slide"
    }
   },
   "source": [
    "## Executing with the distributed client\n",
    "\n",
    "* Once you instantiate a client, it's the default\n",
    "* Use the dashboard to confirm\n",
    "* The dashboad gives great insight into a what's happening"
   ]
  },
  {
   "cell_type": "code",
   "execution_count": 3,
   "metadata": {},
   "outputs": [],
   "source": [
    "from dask import delayed\n",
    "import time\n",
    "\n",
    "def inc(x):\n",
    "    time.sleep(5)\n",
    "    return x + 1\n",
    "\n",
    "def dec(x):\n",
    "    time.sleep(3)\n",
    "    return x - 1\n",
    "\n",
    "def add(x, y):\n",
    "    time.sleep(7)\n",
    "    return x + y"
   ]
  },
  {
   "cell_type": "code",
   "execution_count": 4,
   "metadata": {},
   "outputs": [
    {
     "data": {
      "text/plain": [
       "3"
      ]
     },
     "execution_count": 4,
     "metadata": {},
     "output_type": "execute_result"
    }
   ],
   "source": [
    "%%time\n",
    "x = delayed(inc)(1)\n",
    "y = delayed(dec)(2)\n",
    "total = delayed(add)(x, y)"
   ]
  },
  {
   "cell_type": "markdown",
   "metadata": {},
   "source": [
    "Calling compute on the object immediately executes the computations and fetches the results"
   ]
  },
  {
   "cell_type": "code",
   "execution_count": null,
   "metadata": {},
   "outputs": [],
   "source": [
    "%%time\n",
    "total.compute()"
   ]
  },
  {
   "cell_type": "markdown",
   "metadata": {},
   "source": [
    "The distributed Scheduler offers also a similar interface to `concurrent.futures` by using \n",
    "Client.submit and/or Client.compute\n",
    "\n",
    "These calls immediately return the control, execute the computation and allow you to wait for the results later on"
   ]
  },
  {
   "cell_type": "code",
   "execution_count": 14,
   "metadata": {},
   "outputs": [],
   "source": [
    "future = client.compute(total)"
   ]
  },
  {
   "cell_type": "code",
   "execution_count": 15,
   "metadata": {},
   "outputs": [
    {
     "data": {
      "application/vnd.jupyter.widget-view+json": {
       "model_id": "5d69c09581d047a492671493f7aa3327",
       "version_major": 2,
       "version_minor": 0
      },
      "text/plain": [
       "VBox()"
      ]
     },
     "metadata": {},
     "output_type": "display_data"
    }
   ],
   "source": [
    "from distributed import progress\n",
    "\n",
    "progress(future)"
   ]
  },
  {
   "cell_type": "code",
   "execution_count": 12,
   "metadata": {},
   "outputs": [
    {
     "data": {
      "text/html": [
       "<table style=\"border: 2px solid white;\">\n",
       "<tr>\n",
       "<td style=\"vertical-align: top; border: 0px solid white\">\n",
       "<h3 style=\"text-align: left;\">Client</h3>\n",
       "<ul style=\"text-align: left; list-style: none; margin: 0; padding: 0;\">\n",
       "  <li><b>Scheduler: </b>tcp://127.0.0.1:39493</li>\n",
       "  <li><b>Dashboard: </b><a href='http://127.0.0.1:8000/status' target='_blank'>http://127.0.0.1:8000/status</a>\n",
       "</ul>\n",
       "</td>\n",
       "<td style=\"vertical-align: top; border: 0px solid white\">\n",
       "<h3 style=\"text-align: left;\">Cluster</h3>\n",
       "<ul style=\"text-align: left; list-style:none; margin: 0; padding: 0;\">\n",
       "  <li><b>Workers: </b>4</li>\n",
       "  <li><b>Cores: </b>8</li>\n",
       "  <li><b>Memory: </b>16.82 GB</li>\n",
       "</ul>\n",
       "</td>\n",
       "</tr>\n",
       "</table>"
      ],
      "text/plain": [
       "<Client: scheduler='tcp://127.0.0.1:39493' processes=4 cores=8>"
      ]
     },
     "execution_count": 12,
     "metadata": {},
     "output_type": "execute_result"
    }
   ],
   "source": [
    "# Blocks until result is ready\n",
    "client.gather(future)"
   ]
  },
  {
   "cell_type": "markdown",
   "metadata": {
    "slideshow": {
     "slide_type": "slide"
    }
   },
   "source": [
    "## Excursion: DataFrame storage\n",
    "\n",
    "* Normally table-like data comes as CSV\n",
    "* Decompressing text and parsing CSV files is expensive\n",
    "* Alternatives:\n",
    " * HDF5 in the scientific work\n",
    " * Apache Parquet in the industry\n",
    "* Blog Post: https://tech.jda.com/efficient-dataframe-storage-with-apache-parquet/"
   ]
  },
  {
   "cell_type": "markdown",
   "metadata": {
    "slideshow": {
     "slide_type": "slide"
    }
   },
   "source": [
    "## Convert taxi dataset to Parquet\n",
    "\n",
    "This gives us the chance to use the distributed scheduler"
   ]
  },
  {
   "cell_type": "code",
   "execution_count": 17,
   "metadata": {},
   "outputs": [],
   "source": [
    "import os\n",
    "nytaxi_directory = '/srv/taxi-data-csv'\n",
    "nytaxi_parquet_directory = os.path.expanduser(\"~/taxi-data-parquet\")\n",
    "if not os.path.exists(nytaxi_parquet_directory):\n",
    "    os.mkdir(nytaxi_parquet_directory)"
   ]
  },
  {
   "cell_type": "code",
   "execution_count": 19,
   "metadata": {},
   "outputs": [
    {
     "data": {
      "text/plain": [
       "12"
      ]
     },
     "execution_count": 19,
     "metadata": {},
     "output_type": "execute_result"
    }
   ],
   "source": [
    "import glob\n",
    "\n",
    "csv_files = glob.glob(os.path.join(nytaxi_directory, '*.csv'))\n",
    "len(csv_files)"
   ]
  },
  {
   "cell_type": "code",
   "execution_count": 20,
   "metadata": {
    "slideshow": {
     "slide_type": "slide"
    }
   },
   "outputs": [],
   "source": [
    "from dask import delayed\n",
    "import pandas as pd\n",
    "\n",
    "@delayed\n",
    "def read_taxi_df(filename):\n",
    "    # As usual, we need do to some essential data cleaning to get\n",
    "    # the correct data types.\n",
    "    df = pd.read_csv(\n",
    "        csv_files[0],\n",
    "        parse_dates=['tpep_pickup_datetime', 'tpep_dropoff_datetime'],\n",
    "        infer_datetime_format=True,\n",
    "    )\n",
    "    df['store_and_fwd_flag'] = (df['store_and_fwd_flag'] == 'Y')\n",
    "    return df"
   ]
  },
  {
   "cell_type": "code",
   "execution_count": 21,
   "metadata": {
    "slideshow": {
     "slide_type": "slide"
    }
   },
   "outputs": [
    {
     "data": {
      "text/plain": [
       "[('/srv/taxi-data-csv/yellow_tripdata_2017-06.csv',\n",
       "  Delayed('read_taxi_df-04a32892-8f23-4450-9de7-b97a0a6464ba')),\n",
       " ('/srv/taxi-data-csv/yellow_tripdata_2017-08.csv',\n",
       "  Delayed('read_taxi_df-b878d89b-38d9-4e36-9911-a147f434cb22')),\n",
       " ('/srv/taxi-data-csv/yellow_tripdata_2017-12.csv',\n",
       "  Delayed('read_taxi_df-19a841a5-47d5-44e2-89dc-3f89787cb8d1')),\n",
       " ('/srv/taxi-data-csv/yellow_tripdata_2017-04.csv',\n",
       "  Delayed('read_taxi_df-0a2a3469-f5fe-4288-b19c-a530f633e01f')),\n",
       " ('/srv/taxi-data-csv/yellow_tripdata_2017-02.csv',\n",
       "  Delayed('read_taxi_df-f48bf8b9-cdbf-445a-acf8-f064b087a171')),\n",
       " ('/srv/taxi-data-csv/yellow_tripdata_2017-07.csv',\n",
       "  Delayed('read_taxi_df-e7e1e029-19e7-4374-8ceb-65556c2faff3')),\n",
       " ('/srv/taxi-data-csv/yellow_tripdata_2017-05.csv',\n",
       "  Delayed('read_taxi_df-1006a569-6835-4b73-a1e9-c3472b209895')),\n",
       " ('/srv/taxi-data-csv/yellow_tripdata_2017-10.csv',\n",
       "  Delayed('read_taxi_df-63136832-fb83-42e6-b0da-3bd97b69a9a5')),\n",
       " ('/srv/taxi-data-csv/yellow_tripdata_2017-09.csv',\n",
       "  Delayed('read_taxi_df-7e9e5496-71db-4f33-b852-c993fa32cd03')),\n",
       " ('/srv/taxi-data-csv/yellow_tripdata_2017-03.csv',\n",
       "  Delayed('read_taxi_df-cf756452-88fc-4b71-af6a-99bd32f171a9')),\n",
       " ('/srv/taxi-data-csv/yellow_tripdata_2017-11.csv',\n",
       "  Delayed('read_taxi_df-66352d9a-29aa-4549-97ca-acbe4ff8b1f1')),\n",
       " ('/srv/taxi-data-csv/yellow_tripdata_2017-01.csv',\n",
       "  Delayed('read_taxi_df-1acfc2d1-3370-4287-8b02-f3c6af5d7fd8'))]"
      ]
     },
     "execution_count": 21,
     "metadata": {},
     "output_type": "execute_result"
    }
   ],
   "source": [
    "import dask\n",
    "\n",
    "tasks = [(f, read_taxi_df(f)) for f in csv_files]\n",
    "tasks"
   ]
  },
  {
   "cell_type": "code",
   "execution_count": 22,
   "metadata": {
    "slideshow": {
     "slide_type": "slide"
    }
   },
   "outputs": [],
   "source": [
    "\n",
    "@delayed\n",
    "def store_parquet(filename, df):\n",
    "    # This changes file extension and folder name\n",
    "    f = os.path.join(\n",
    "        nytaxi_parquet_directory,\n",
    "        os.path.basename(filename).replace('csv', 'parquet')\n",
    "    )\n",
    "    return df.to_parquet(f, engine='pyarrow')\n",
    "\n",
    "tasks = [store_parquet(f, df) for f, df in tasks]"
   ]
  },
  {
   "cell_type": "code",
   "execution_count": 23,
   "metadata": {},
   "outputs": [
    {
     "data": {
      "image/svg+xml": [
       "<svg height=\"475pt\" viewBox=\"0.00 0.00 1982.19 475.27\" width=\"1982pt\" xmlns=\"http://www.w3.org/2000/svg\" xmlns:xlink=\"http://www.w3.org/1999/xlink\">\n",
       "<g class=\"graph\" id=\"graph0\" transform=\"scale(1 1) rotate(0) translate(4 471.275)\">\n",
       "<title>%3</title>\n",
       "<polygon fill=\"white\" points=\"-4,4 -4,-471.275 1978.19,-471.275 1978.19,4 -4,4\" stroke=\"none\"/>\n",
       "<!-- &#45;893105381837418947 -->\n",
       "<g class=\"node\" id=\"node1\"><title>-893105381837418947</title>\n",
       "<polygon fill=\"none\" points=\"101.093,-467.275 47.0934,-467.275 47.0934,-431.275 101.093,-431.275 101.093,-467.275\" stroke=\"black\"/>\n",
       "</g>\n",
       "<!-- &#45;4790372483608930494 -->\n",
       "<g class=\"node\" id=\"node2\"><title>-4790372483608930494</title>\n",
       "<ellipse cx=\"74.0934\" cy=\"-321.181\" fill=\"none\" rx=\"74.187\" ry=\"74.187\" stroke=\"black\"/>\n",
       "<text font-family=\"Times,serif\" font-size=\"14.00\" text-anchor=\"middle\" x=\"74.0934\" y=\"-317.481\">store_parquet</text>\n",
       "</g>\n",
       "<!-- &#45;4790372483608930494&#45;&gt;&#45;893105381837418947 -->\n",
       "<g class=\"edge\" id=\"edge1\"><title>-4790372483608930494-&gt;-893105381837418947</title>\n",
       "<path d=\"M74.0934,-395.53C74.0934,-404.515 74.0934,-413.214 74.0934,-420.868\" fill=\"none\" stroke=\"black\"/>\n",
       "<polygon fill=\"black\" points=\"70.5935,-420.915 74.0934,-430.915 77.5935,-420.915 70.5935,-420.915\" stroke=\"black\"/>\n",
       "</g>\n",
       "<!-- 7822168638254022661 -->\n",
       "<g class=\"node\" id=\"node3\"><title>7822168638254022661</title>\n",
       "<polygon fill=\"none\" points=\"101.093,-211.088 47.0934,-211.088 47.0934,-175.088 101.093,-175.088 101.093,-211.088\" stroke=\"black\"/>\n",
       "</g>\n",
       "<!-- 7822168638254022661&#45;&gt;&#45;4790372483608930494 -->\n",
       "<g class=\"edge\" id=\"edge2\"><title>7822168638254022661-&gt;-4790372483608930494</title>\n",
       "<path d=\"M74.0934,-211.093C74.0934,-218.228 74.0934,-227.092 74.0934,-236.662\" fill=\"none\" stroke=\"black\"/>\n",
       "<polygon fill=\"black\" points=\"70.5935,-236.848 74.0934,-246.848 77.5935,-236.848 70.5935,-236.848\" stroke=\"black\"/>\n",
       "</g>\n",
       "<!-- &#45;2234554559303510726 -->\n",
       "<g class=\"node\" id=\"node4\"><title>-2234554559303510726</title>\n",
       "<ellipse cx=\"74.0934\" cy=\"-69.5438\" fill=\"none\" rx=\"69.5877\" ry=\"69.5877\" stroke=\"black\"/>\n",
       "<text font-family=\"Times,serif\" font-size=\"14.00\" text-anchor=\"middle\" x=\"74.0934\" y=\"-65.8438\">read_taxi_df</text>\n",
       "</g>\n",
       "<!-- &#45;2234554559303510726&#45;&gt;7822168638254022661 -->\n",
       "<g class=\"edge\" id=\"edge3\"><title>-2234554559303510726-&gt;7822168638254022661</title>\n",
       "<path d=\"M74.0934,-139.13C74.0934,-148.207 74.0934,-157.047 74.0934,-164.822\" fill=\"none\" stroke=\"black\"/>\n",
       "<polygon fill=\"black\" points=\"70.5935,-165.019 74.0934,-175.019 77.5935,-165.019 70.5935,-165.019\" stroke=\"black\"/>\n",
       "</g>\n",
       "<!-- &#45;5555371064736297205 -->\n",
       "<g class=\"node\" id=\"node5\"><title>-5555371064736297205</title>\n",
       "<polygon fill=\"none\" points=\"267.093,-467.275 213.093,-467.275 213.093,-431.275 267.093,-431.275 267.093,-467.275\" stroke=\"black\"/>\n",
       "</g>\n",
       "<!-- 2601359388445980588 -->\n",
       "<g class=\"node\" id=\"node6\"><title>2601359388445980588</title>\n",
       "<ellipse cx=\"240.093\" cy=\"-321.181\" fill=\"none\" rx=\"74.187\" ry=\"74.187\" stroke=\"black\"/>\n",
       "<text font-family=\"Times,serif\" font-size=\"14.00\" text-anchor=\"middle\" x=\"240.093\" y=\"-317.481\">store_parquet</text>\n",
       "</g>\n",
       "<!-- 2601359388445980588&#45;&gt;&#45;5555371064736297205 -->\n",
       "<g class=\"edge\" id=\"edge4\"><title>2601359388445980588-&gt;-5555371064736297205</title>\n",
       "<path d=\"M240.093,-395.53C240.093,-404.515 240.093,-413.214 240.093,-420.868\" fill=\"none\" stroke=\"black\"/>\n",
       "<polygon fill=\"black\" points=\"236.594,-420.915 240.093,-430.915 243.594,-420.915 236.594,-420.915\" stroke=\"black\"/>\n",
       "</g>\n",
       "<!-- 6976783171285358852 -->\n",
       "<g class=\"node\" id=\"node7\"><title>6976783171285358852</title>\n",
       "<polygon fill=\"none\" points=\"267.093,-211.088 213.093,-211.088 213.093,-175.088 267.093,-175.088 267.093,-211.088\" stroke=\"black\"/>\n",
       "</g>\n",
       "<!-- 6976783171285358852&#45;&gt;2601359388445980588 -->\n",
       "<g class=\"edge\" id=\"edge5\"><title>6976783171285358852-&gt;2601359388445980588</title>\n",
       "<path d=\"M240.093,-211.093C240.093,-218.228 240.093,-227.092 240.093,-236.662\" fill=\"none\" stroke=\"black\"/>\n",
       "<polygon fill=\"black\" points=\"236.594,-236.848 240.093,-246.848 243.594,-236.848 236.594,-236.848\" stroke=\"black\"/>\n",
       "</g>\n",
       "<!-- 2651671978976246563 -->\n",
       "<g class=\"node\" id=\"node8\"><title>2651671978976246563</title>\n",
       "<ellipse cx=\"240.093\" cy=\"-69.5438\" fill=\"none\" rx=\"69.5877\" ry=\"69.5877\" stroke=\"black\"/>\n",
       "<text font-family=\"Times,serif\" font-size=\"14.00\" text-anchor=\"middle\" x=\"240.093\" y=\"-65.8438\">read_taxi_df</text>\n",
       "</g>\n",
       "<!-- 2651671978976246563&#45;&gt;6976783171285358852 -->\n",
       "<g class=\"edge\" id=\"edge6\"><title>2651671978976246563-&gt;6976783171285358852</title>\n",
       "<path d=\"M240.093,-139.13C240.093,-148.207 240.093,-157.047 240.093,-164.822\" fill=\"none\" stroke=\"black\"/>\n",
       "<polygon fill=\"black\" points=\"236.594,-165.019 240.093,-175.019 243.594,-165.019 236.594,-165.019\" stroke=\"black\"/>\n",
       "</g>\n",
       "<!-- &#45;4944358865064796264 -->\n",
       "<g class=\"node\" id=\"node9\"><title>-4944358865064796264</title>\n",
       "<polygon fill=\"none\" points=\"433.093,-467.275 379.093,-467.275 379.093,-431.275 433.093,-431.275 433.093,-467.275\" stroke=\"black\"/>\n",
       "</g>\n",
       "<!-- &#45;3535443723422880089 -->\n",
       "<g class=\"node\" id=\"node10\"><title>-3535443723422880089</title>\n",
       "<ellipse cx=\"406.093\" cy=\"-321.181\" fill=\"none\" rx=\"74.187\" ry=\"74.187\" stroke=\"black\"/>\n",
       "<text font-family=\"Times,serif\" font-size=\"14.00\" text-anchor=\"middle\" x=\"406.093\" y=\"-317.481\">store_parquet</text>\n",
       "</g>\n",
       "<!-- &#45;3535443723422880089&#45;&gt;&#45;4944358865064796264 -->\n",
       "<g class=\"edge\" id=\"edge7\"><title>-3535443723422880089-&gt;-4944358865064796264</title>\n",
       "<path d=\"M406.093,-395.53C406.093,-404.515 406.093,-413.214 406.093,-420.868\" fill=\"none\" stroke=\"black\"/>\n",
       "<polygon fill=\"black\" points=\"402.594,-420.915 406.093,-430.915 409.594,-420.915 402.594,-420.915\" stroke=\"black\"/>\n",
       "</g>\n",
       "<!-- 1065583196802942868 -->\n",
       "<g class=\"node\" id=\"node11\"><title>1065583196802942868</title>\n",
       "<polygon fill=\"none\" points=\"433.093,-211.088 379.093,-211.088 379.093,-175.088 433.093,-175.088 433.093,-211.088\" stroke=\"black\"/>\n",
       "</g>\n",
       "<!-- 1065583196802942868&#45;&gt;&#45;3535443723422880089 -->\n",
       "<g class=\"edge\" id=\"edge8\"><title>1065583196802942868-&gt;-3535443723422880089</title>\n",
       "<path d=\"M406.093,-211.093C406.093,-218.228 406.093,-227.092 406.093,-236.662\" fill=\"none\" stroke=\"black\"/>\n",
       "<polygon fill=\"black\" points=\"402.594,-236.848 406.093,-246.848 409.594,-236.848 402.594,-236.848\" stroke=\"black\"/>\n",
       "</g>\n",
       "<!-- &#45;3483804448532213741 -->\n",
       "<g class=\"node\" id=\"node12\"><title>-3483804448532213741</title>\n",
       "<ellipse cx=\"406.093\" cy=\"-69.5438\" fill=\"none\" rx=\"69.5877\" ry=\"69.5877\" stroke=\"black\"/>\n",
       "<text font-family=\"Times,serif\" font-size=\"14.00\" text-anchor=\"middle\" x=\"406.093\" y=\"-65.8438\">read_taxi_df</text>\n",
       "</g>\n",
       "<!-- &#45;3483804448532213741&#45;&gt;1065583196802942868 -->\n",
       "<g class=\"edge\" id=\"edge9\"><title>-3483804448532213741-&gt;1065583196802942868</title>\n",
       "<path d=\"M406.093,-139.13C406.093,-148.207 406.093,-157.047 406.093,-164.822\" fill=\"none\" stroke=\"black\"/>\n",
       "<polygon fill=\"black\" points=\"402.594,-165.019 406.093,-175.019 409.594,-165.019 402.594,-165.019\" stroke=\"black\"/>\n",
       "</g>\n",
       "<!-- &#45;6189877834608184129 -->\n",
       "<g class=\"node\" id=\"node13\"><title>-6189877834608184129</title>\n",
       "<polygon fill=\"none\" points=\"599.093,-467.275 545.093,-467.275 545.093,-431.275 599.093,-431.275 599.093,-467.275\" stroke=\"black\"/>\n",
       "</g>\n",
       "<!-- &#45;6919481781120486112 -->\n",
       "<g class=\"node\" id=\"node14\"><title>-6919481781120486112</title>\n",
       "<ellipse cx=\"572.093\" cy=\"-321.181\" fill=\"none\" rx=\"74.187\" ry=\"74.187\" stroke=\"black\"/>\n",
       "<text font-family=\"Times,serif\" font-size=\"14.00\" text-anchor=\"middle\" x=\"572.093\" y=\"-317.481\">store_parquet</text>\n",
       "</g>\n",
       "<!-- &#45;6919481781120486112&#45;&gt;&#45;6189877834608184129 -->\n",
       "<g class=\"edge\" id=\"edge10\"><title>-6919481781120486112-&gt;-6189877834608184129</title>\n",
       "<path d=\"M572.093,-395.53C572.093,-404.515 572.093,-413.214 572.093,-420.868\" fill=\"none\" stroke=\"black\"/>\n",
       "<polygon fill=\"black\" points=\"568.594,-420.915 572.093,-430.915 575.594,-420.915 568.594,-420.915\" stroke=\"black\"/>\n",
       "</g>\n",
       "<!-- &#45;888154156667492943 -->\n",
       "<g class=\"node\" id=\"node15\"><title>-888154156667492943</title>\n",
       "<polygon fill=\"none\" points=\"599.093,-211.088 545.093,-211.088 545.093,-175.088 599.093,-175.088 599.093,-211.088\" stroke=\"black\"/>\n",
       "</g>\n",
       "<!-- &#45;888154156667492943&#45;&gt;&#45;6919481781120486112 -->\n",
       "<g class=\"edge\" id=\"edge11\"><title>-888154156667492943-&gt;-6919481781120486112</title>\n",
       "<path d=\"M572.093,-211.093C572.093,-218.228 572.093,-227.092 572.093,-236.662\" fill=\"none\" stroke=\"black\"/>\n",
       "<polygon fill=\"black\" points=\"568.594,-236.848 572.093,-246.848 575.594,-236.848 568.594,-236.848\" stroke=\"black\"/>\n",
       "</g>\n",
       "<!-- &#45;3378544890631946394 -->\n",
       "<g class=\"node\" id=\"node16\"><title>-3378544890631946394</title>\n",
       "<ellipse cx=\"572.093\" cy=\"-69.5438\" fill=\"none\" rx=\"69.5877\" ry=\"69.5877\" stroke=\"black\"/>\n",
       "<text font-family=\"Times,serif\" font-size=\"14.00\" text-anchor=\"middle\" x=\"572.093\" y=\"-65.8438\">read_taxi_df</text>\n",
       "</g>\n",
       "<!-- &#45;3378544890631946394&#45;&gt;&#45;888154156667492943 -->\n",
       "<g class=\"edge\" id=\"edge12\"><title>-3378544890631946394-&gt;-888154156667492943</title>\n",
       "<path d=\"M572.093,-139.13C572.093,-148.207 572.093,-157.047 572.093,-164.822\" fill=\"none\" stroke=\"black\"/>\n",
       "<polygon fill=\"black\" points=\"568.594,-165.019 572.093,-175.019 575.594,-165.019 568.594,-165.019\" stroke=\"black\"/>\n",
       "</g>\n",
       "<!-- &#45;1238583566834307772 -->\n",
       "<g class=\"node\" id=\"node17\"><title>-1238583566834307772</title>\n",
       "<polygon fill=\"none\" points=\"765.093,-467.275 711.093,-467.275 711.093,-431.275 765.093,-431.275 765.093,-467.275\" stroke=\"black\"/>\n",
       "</g>\n",
       "<!-- &#45;2757220315146708125 -->\n",
       "<g class=\"node\" id=\"node18\"><title>-2757220315146708125</title>\n",
       "<ellipse cx=\"738.093\" cy=\"-321.181\" fill=\"none\" rx=\"74.187\" ry=\"74.187\" stroke=\"black\"/>\n",
       "<text font-family=\"Times,serif\" font-size=\"14.00\" text-anchor=\"middle\" x=\"738.093\" y=\"-317.481\">store_parquet</text>\n",
       "</g>\n",
       "<!-- &#45;2757220315146708125&#45;&gt;&#45;1238583566834307772 -->\n",
       "<g class=\"edge\" id=\"edge13\"><title>-2757220315146708125-&gt;-1238583566834307772</title>\n",
       "<path d=\"M738.093,-395.53C738.093,-404.515 738.093,-413.214 738.093,-420.868\" fill=\"none\" stroke=\"black\"/>\n",
       "<polygon fill=\"black\" points=\"734.594,-420.915 738.093,-430.915 741.594,-420.915 734.594,-420.915\" stroke=\"black\"/>\n",
       "</g>\n",
       "<!-- 7464502619398308789 -->\n",
       "<g class=\"node\" id=\"node19\"><title>7464502619398308789</title>\n",
       "<polygon fill=\"none\" points=\"765.093,-211.088 711.093,-211.088 711.093,-175.088 765.093,-175.088 765.093,-211.088\" stroke=\"black\"/>\n",
       "</g>\n",
       "<!-- 7464502619398308789&#45;&gt;&#45;2757220315146708125 -->\n",
       "<g class=\"edge\" id=\"edge14\"><title>7464502619398308789-&gt;-2757220315146708125</title>\n",
       "<path d=\"M738.093,-211.093C738.093,-218.228 738.093,-227.092 738.093,-236.662\" fill=\"none\" stroke=\"black\"/>\n",
       "<polygon fill=\"black\" points=\"734.594,-236.848 738.093,-246.848 741.594,-236.848 734.594,-236.848\" stroke=\"black\"/>\n",
       "</g>\n",
       "<!-- &#45;8200829430479129334 -->\n",
       "<g class=\"node\" id=\"node20\"><title>-8200829430479129334</title>\n",
       "<ellipse cx=\"738.093\" cy=\"-69.5438\" fill=\"none\" rx=\"69.5877\" ry=\"69.5877\" stroke=\"black\"/>\n",
       "<text font-family=\"Times,serif\" font-size=\"14.00\" text-anchor=\"middle\" x=\"738.093\" y=\"-65.8438\">read_taxi_df</text>\n",
       "</g>\n",
       "<!-- &#45;8200829430479129334&#45;&gt;7464502619398308789 -->\n",
       "<g class=\"edge\" id=\"edge15\"><title>-8200829430479129334-&gt;7464502619398308789</title>\n",
       "<path d=\"M738.093,-139.13C738.093,-148.207 738.093,-157.047 738.093,-164.822\" fill=\"none\" stroke=\"black\"/>\n",
       "<polygon fill=\"black\" points=\"734.594,-165.019 738.093,-175.019 741.594,-165.019 734.594,-165.019\" stroke=\"black\"/>\n",
       "</g>\n",
       "<!-- &#45;6839202904544525997 -->\n",
       "<g class=\"node\" id=\"node21\"><title>-6839202904544525997</title>\n",
       "<polygon fill=\"none\" points=\"931.093,-467.275 877.093,-467.275 877.093,-431.275 931.093,-431.275 931.093,-467.275\" stroke=\"black\"/>\n",
       "</g>\n",
       "<!-- 6466148943192306340 -->\n",
       "<g class=\"node\" id=\"node22\"><title>6466148943192306340</title>\n",
       "<ellipse cx=\"904.093\" cy=\"-321.181\" fill=\"none\" rx=\"74.187\" ry=\"74.187\" stroke=\"black\"/>\n",
       "<text font-family=\"Times,serif\" font-size=\"14.00\" text-anchor=\"middle\" x=\"904.093\" y=\"-317.481\">store_parquet</text>\n",
       "</g>\n",
       "<!-- 6466148943192306340&#45;&gt;&#45;6839202904544525997 -->\n",
       "<g class=\"edge\" id=\"edge16\"><title>6466148943192306340-&gt;-6839202904544525997</title>\n",
       "<path d=\"M904.093,-395.53C904.093,-404.515 904.093,-413.214 904.093,-420.868\" fill=\"none\" stroke=\"black\"/>\n",
       "<polygon fill=\"black\" points=\"900.594,-420.915 904.093,-430.915 907.594,-420.915 900.594,-420.915\" stroke=\"black\"/>\n",
       "</g>\n",
       "<!-- &#45;4013785314690649702 -->\n",
       "<g class=\"node\" id=\"node23\"><title>-4013785314690649702</title>\n",
       "<polygon fill=\"none\" points=\"931.093,-211.088 877.093,-211.088 877.093,-175.088 931.093,-175.088 931.093,-211.088\" stroke=\"black\"/>\n",
       "</g>\n",
       "<!-- &#45;4013785314690649702&#45;&gt;6466148943192306340 -->\n",
       "<g class=\"edge\" id=\"edge17\"><title>-4013785314690649702-&gt;6466148943192306340</title>\n",
       "<path d=\"M904.093,-211.093C904.093,-218.228 904.093,-227.092 904.093,-236.662\" fill=\"none\" stroke=\"black\"/>\n",
       "<polygon fill=\"black\" points=\"900.594,-236.848 904.093,-246.848 907.594,-236.848 900.594,-236.848\" stroke=\"black\"/>\n",
       "</g>\n",
       "<!-- &#45;6929990196845243411 -->\n",
       "<g class=\"node\" id=\"node24\"><title>-6929990196845243411</title>\n",
       "<ellipse cx=\"904.093\" cy=\"-69.5438\" fill=\"none\" rx=\"69.5877\" ry=\"69.5877\" stroke=\"black\"/>\n",
       "<text font-family=\"Times,serif\" font-size=\"14.00\" text-anchor=\"middle\" x=\"904.093\" y=\"-65.8438\">read_taxi_df</text>\n",
       "</g>\n",
       "<!-- &#45;6929990196845243411&#45;&gt;&#45;4013785314690649702 -->\n",
       "<g class=\"edge\" id=\"edge18\"><title>-6929990196845243411-&gt;-4013785314690649702</title>\n",
       "<path d=\"M904.093,-139.13C904.093,-148.207 904.093,-157.047 904.093,-164.822\" fill=\"none\" stroke=\"black\"/>\n",
       "<polygon fill=\"black\" points=\"900.594,-165.019 904.093,-175.019 907.594,-165.019 900.594,-165.019\" stroke=\"black\"/>\n",
       "</g>\n",
       "<!-- 6646408896662084565 -->\n",
       "<g class=\"node\" id=\"node25\"><title>6646408896662084565</title>\n",
       "<polygon fill=\"none\" points=\"1097.09,-467.275 1043.09,-467.275 1043.09,-431.275 1097.09,-431.275 1097.09,-467.275\" stroke=\"black\"/>\n",
       "</g>\n",
       "<!-- 6887993923812000106 -->\n",
       "<g class=\"node\" id=\"node26\"><title>6887993923812000106</title>\n",
       "<ellipse cx=\"1070.09\" cy=\"-321.181\" fill=\"none\" rx=\"74.187\" ry=\"74.187\" stroke=\"black\"/>\n",
       "<text font-family=\"Times,serif\" font-size=\"14.00\" text-anchor=\"middle\" x=\"1070.09\" y=\"-317.481\">store_parquet</text>\n",
       "</g>\n",
       "<!-- 6887993923812000106&#45;&gt;6646408896662084565 -->\n",
       "<g class=\"edge\" id=\"edge19\"><title>6887993923812000106-&gt;6646408896662084565</title>\n",
       "<path d=\"M1070.09,-395.53C1070.09,-404.515 1070.09,-413.214 1070.09,-420.868\" fill=\"none\" stroke=\"black\"/>\n",
       "<polygon fill=\"black\" points=\"1066.59,-420.915 1070.09,-430.915 1073.59,-420.915 1066.59,-420.915\" stroke=\"black\"/>\n",
       "</g>\n",
       "<!-- &#45;8131140319557057624 -->\n",
       "<g class=\"node\" id=\"node27\"><title>-8131140319557057624</title>\n",
       "<polygon fill=\"none\" points=\"1097.09,-211.088 1043.09,-211.088 1043.09,-175.088 1097.09,-175.088 1097.09,-211.088\" stroke=\"black\"/>\n",
       "</g>\n",
       "<!-- &#45;8131140319557057624&#45;&gt;6887993923812000106 -->\n",
       "<g class=\"edge\" id=\"edge20\"><title>-8131140319557057624-&gt;6887993923812000106</title>\n",
       "<path d=\"M1070.09,-211.093C1070.09,-218.228 1070.09,-227.092 1070.09,-236.662\" fill=\"none\" stroke=\"black\"/>\n",
       "<polygon fill=\"black\" points=\"1066.59,-236.848 1070.09,-246.848 1073.59,-236.848 1066.59,-236.848\" stroke=\"black\"/>\n",
       "</g>\n",
       "<!-- &#45;1406937735772111465 -->\n",
       "<g class=\"node\" id=\"node28\"><title>-1406937735772111465</title>\n",
       "<ellipse cx=\"1070.09\" cy=\"-69.5438\" fill=\"none\" rx=\"69.5877\" ry=\"69.5877\" stroke=\"black\"/>\n",
       "<text font-family=\"Times,serif\" font-size=\"14.00\" text-anchor=\"middle\" x=\"1070.09\" y=\"-65.8438\">read_taxi_df</text>\n",
       "</g>\n",
       "<!-- &#45;1406937735772111465&#45;&gt;&#45;8131140319557057624 -->\n",
       "<g class=\"edge\" id=\"edge21\"><title>-1406937735772111465-&gt;-8131140319557057624</title>\n",
       "<path d=\"M1070.09,-139.13C1070.09,-148.207 1070.09,-157.047 1070.09,-164.822\" fill=\"none\" stroke=\"black\"/>\n",
       "<polygon fill=\"black\" points=\"1066.59,-165.019 1070.09,-175.019 1073.59,-165.019 1066.59,-165.019\" stroke=\"black\"/>\n",
       "</g>\n",
       "<!-- 6344109333301672647 -->\n",
       "<g class=\"node\" id=\"node29\"><title>6344109333301672647</title>\n",
       "<polygon fill=\"none\" points=\"1263.09,-467.275 1209.09,-467.275 1209.09,-431.275 1263.09,-431.275 1263.09,-467.275\" stroke=\"black\"/>\n",
       "</g>\n",
       "<!-- 5410951058265633624 -->\n",
       "<g class=\"node\" id=\"node30\"><title>5410951058265633624</title>\n",
       "<ellipse cx=\"1236.09\" cy=\"-321.181\" fill=\"none\" rx=\"74.187\" ry=\"74.187\" stroke=\"black\"/>\n",
       "<text font-family=\"Times,serif\" font-size=\"14.00\" text-anchor=\"middle\" x=\"1236.09\" y=\"-317.481\">store_parquet</text>\n",
       "</g>\n",
       "<!-- 5410951058265633624&#45;&gt;6344109333301672647 -->\n",
       "<g class=\"edge\" id=\"edge22\"><title>5410951058265633624-&gt;6344109333301672647</title>\n",
       "<path d=\"M1236.09,-395.53C1236.09,-404.515 1236.09,-413.214 1236.09,-420.868\" fill=\"none\" stroke=\"black\"/>\n",
       "<polygon fill=\"black\" points=\"1232.59,-420.915 1236.09,-430.915 1239.59,-420.915 1232.59,-420.915\" stroke=\"black\"/>\n",
       "</g>\n",
       "<!-- 5257340617622524256 -->\n",
       "<g class=\"node\" id=\"node31\"><title>5257340617622524256</title>\n",
       "<polygon fill=\"none\" points=\"1263.09,-211.088 1209.09,-211.088 1209.09,-175.088 1263.09,-175.088 1263.09,-211.088\" stroke=\"black\"/>\n",
       "</g>\n",
       "<!-- 5257340617622524256&#45;&gt;5410951058265633624 -->\n",
       "<g class=\"edge\" id=\"edge23\"><title>5257340617622524256-&gt;5410951058265633624</title>\n",
       "<path d=\"M1236.09,-211.093C1236.09,-218.228 1236.09,-227.092 1236.09,-236.662\" fill=\"none\" stroke=\"black\"/>\n",
       "<polygon fill=\"black\" points=\"1232.59,-236.848 1236.09,-246.848 1239.59,-236.848 1232.59,-236.848\" stroke=\"black\"/>\n",
       "</g>\n",
       "<!-- 4852093817334732831 -->\n",
       "<g class=\"node\" id=\"node32\"><title>4852093817334732831</title>\n",
       "<ellipse cx=\"1236.09\" cy=\"-69.5438\" fill=\"none\" rx=\"69.5877\" ry=\"69.5877\" stroke=\"black\"/>\n",
       "<text font-family=\"Times,serif\" font-size=\"14.00\" text-anchor=\"middle\" x=\"1236.09\" y=\"-65.8438\">read_taxi_df</text>\n",
       "</g>\n",
       "<!-- 4852093817334732831&#45;&gt;5257340617622524256 -->\n",
       "<g class=\"edge\" id=\"edge24\"><title>4852093817334732831-&gt;5257340617622524256</title>\n",
       "<path d=\"M1236.09,-139.13C1236.09,-148.207 1236.09,-157.047 1236.09,-164.822\" fill=\"none\" stroke=\"black\"/>\n",
       "<polygon fill=\"black\" points=\"1232.59,-165.019 1236.09,-175.019 1239.59,-165.019 1232.59,-165.019\" stroke=\"black\"/>\n",
       "</g>\n",
       "<!-- 5595738130199017244 -->\n",
       "<g class=\"node\" id=\"node33\"><title>5595738130199017244</title>\n",
       "<polygon fill=\"none\" points=\"1429.09,-467.275 1375.09,-467.275 1375.09,-431.275 1429.09,-431.275 1429.09,-467.275\" stroke=\"black\"/>\n",
       "</g>\n",
       "<!-- &#45;583561342283630389 -->\n",
       "<g class=\"node\" id=\"node34\"><title>-583561342283630389</title>\n",
       "<ellipse cx=\"1402.09\" cy=\"-321.181\" fill=\"none\" rx=\"74.187\" ry=\"74.187\" stroke=\"black\"/>\n",
       "<text font-family=\"Times,serif\" font-size=\"14.00\" text-anchor=\"middle\" x=\"1402.09\" y=\"-317.481\">store_parquet</text>\n",
       "</g>\n",
       "<!-- &#45;583561342283630389&#45;&gt;5595738130199017244 -->\n",
       "<g class=\"edge\" id=\"edge25\"><title>-583561342283630389-&gt;5595738130199017244</title>\n",
       "<path d=\"M1402.09,-395.53C1402.09,-404.515 1402.09,-413.214 1402.09,-420.868\" fill=\"none\" stroke=\"black\"/>\n",
       "<polygon fill=\"black\" points=\"1398.59,-420.915 1402.09,-430.915 1405.59,-420.915 1398.59,-420.915\" stroke=\"black\"/>\n",
       "</g>\n",
       "<!-- 1052260834568878485 -->\n",
       "<g class=\"node\" id=\"node35\"><title>1052260834568878485</title>\n",
       "<polygon fill=\"none\" points=\"1429.09,-211.088 1375.09,-211.088 1375.09,-175.088 1429.09,-175.088 1429.09,-211.088\" stroke=\"black\"/>\n",
       "</g>\n",
       "<!-- 1052260834568878485&#45;&gt;&#45;583561342283630389 -->\n",
       "<g class=\"edge\" id=\"edge26\"><title>1052260834568878485-&gt;-583561342283630389</title>\n",
       "<path d=\"M1402.09,-211.093C1402.09,-218.228 1402.09,-227.092 1402.09,-236.662\" fill=\"none\" stroke=\"black\"/>\n",
       "<polygon fill=\"black\" points=\"1398.59,-236.848 1402.09,-246.848 1405.59,-236.848 1398.59,-236.848\" stroke=\"black\"/>\n",
       "</g>\n",
       "<!-- &#45;1793200100147175638 -->\n",
       "<g class=\"node\" id=\"node36\"><title>-1793200100147175638</title>\n",
       "<ellipse cx=\"1402.09\" cy=\"-69.5438\" fill=\"none\" rx=\"69.5877\" ry=\"69.5877\" stroke=\"black\"/>\n",
       "<text font-family=\"Times,serif\" font-size=\"14.00\" text-anchor=\"middle\" x=\"1402.09\" y=\"-65.8438\">read_taxi_df</text>\n",
       "</g>\n",
       "<!-- &#45;1793200100147175638&#45;&gt;1052260834568878485 -->\n",
       "<g class=\"edge\" id=\"edge27\"><title>-1793200100147175638-&gt;1052260834568878485</title>\n",
       "<path d=\"M1402.09,-139.13C1402.09,-148.207 1402.09,-157.047 1402.09,-164.822\" fill=\"none\" stroke=\"black\"/>\n",
       "<polygon fill=\"black\" points=\"1398.59,-165.019 1402.09,-175.019 1405.59,-165.019 1398.59,-165.019\" stroke=\"black\"/>\n",
       "</g>\n",
       "<!-- 4474524416009228008 -->\n",
       "<g class=\"node\" id=\"node37\"><title>4474524416009228008</title>\n",
       "<polygon fill=\"none\" points=\"1595.09,-467.275 1541.09,-467.275 1541.09,-431.275 1595.09,-431.275 1595.09,-467.275\" stroke=\"black\"/>\n",
       "</g>\n",
       "<!-- 4512896283815513303 -->\n",
       "<g class=\"node\" id=\"node38\"><title>4512896283815513303</title>\n",
       "<ellipse cx=\"1568.09\" cy=\"-321.181\" fill=\"none\" rx=\"74.187\" ry=\"74.187\" stroke=\"black\"/>\n",
       "<text font-family=\"Times,serif\" font-size=\"14.00\" text-anchor=\"middle\" x=\"1568.09\" y=\"-317.481\">store_parquet</text>\n",
       "</g>\n",
       "<!-- 4512896283815513303&#45;&gt;4474524416009228008 -->\n",
       "<g class=\"edge\" id=\"edge28\"><title>4512896283815513303-&gt;4474524416009228008</title>\n",
       "<path d=\"M1568.09,-395.53C1568.09,-404.515 1568.09,-413.214 1568.09,-420.868\" fill=\"none\" stroke=\"black\"/>\n",
       "<polygon fill=\"black\" points=\"1564.59,-420.915 1568.09,-430.915 1571.59,-420.915 1564.59,-420.915\" stroke=\"black\"/>\n",
       "</g>\n",
       "<!-- 3865856767191646793 -->\n",
       "<g class=\"node\" id=\"node39\"><title>3865856767191646793</title>\n",
       "<polygon fill=\"none\" points=\"1595.09,-211.088 1541.09,-211.088 1541.09,-175.088 1595.09,-175.088 1595.09,-211.088\" stroke=\"black\"/>\n",
       "</g>\n",
       "<!-- 3865856767191646793&#45;&gt;4512896283815513303 -->\n",
       "<g class=\"edge\" id=\"edge29\"><title>3865856767191646793-&gt;4512896283815513303</title>\n",
       "<path d=\"M1568.09,-211.093C1568.09,-218.228 1568.09,-227.092 1568.09,-236.662\" fill=\"none\" stroke=\"black\"/>\n",
       "<polygon fill=\"black\" points=\"1564.59,-236.848 1568.09,-246.848 1571.59,-236.848 1564.59,-236.848\" stroke=\"black\"/>\n",
       "</g>\n",
       "<!-- 375852957666954382 -->\n",
       "<g class=\"node\" id=\"node40\"><title>375852957666954382</title>\n",
       "<ellipse cx=\"1568.09\" cy=\"-69.5438\" fill=\"none\" rx=\"69.5877\" ry=\"69.5877\" stroke=\"black\"/>\n",
       "<text font-family=\"Times,serif\" font-size=\"14.00\" text-anchor=\"middle\" x=\"1568.09\" y=\"-65.8438\">read_taxi_df</text>\n",
       "</g>\n",
       "<!-- 375852957666954382&#45;&gt;3865856767191646793 -->\n",
       "<g class=\"edge\" id=\"edge30\"><title>375852957666954382-&gt;3865856767191646793</title>\n",
       "<path d=\"M1568.09,-139.13C1568.09,-148.207 1568.09,-157.047 1568.09,-164.822\" fill=\"none\" stroke=\"black\"/>\n",
       "<polygon fill=\"black\" points=\"1564.59,-165.019 1568.09,-175.019 1571.59,-165.019 1564.59,-165.019\" stroke=\"black\"/>\n",
       "</g>\n",
       "<!-- 5558088205358974582 -->\n",
       "<g class=\"node\" id=\"node41\"><title>5558088205358974582</title>\n",
       "<polygon fill=\"none\" points=\"1761.09,-467.275 1707.09,-467.275 1707.09,-431.275 1761.09,-431.275 1761.09,-467.275\" stroke=\"black\"/>\n",
       "</g>\n",
       "<!-- &#45;2503459496826158855 -->\n",
       "<g class=\"node\" id=\"node42\"><title>-2503459496826158855</title>\n",
       "<ellipse cx=\"1734.09\" cy=\"-321.181\" fill=\"none\" rx=\"74.187\" ry=\"74.187\" stroke=\"black\"/>\n",
       "<text font-family=\"Times,serif\" font-size=\"14.00\" text-anchor=\"middle\" x=\"1734.09\" y=\"-317.481\">store_parquet</text>\n",
       "</g>\n",
       "<!-- &#45;2503459496826158855&#45;&gt;5558088205358974582 -->\n",
       "<g class=\"edge\" id=\"edge31\"><title>-2503459496826158855-&gt;5558088205358974582</title>\n",
       "<path d=\"M1734.09,-395.53C1734.09,-404.515 1734.09,-413.214 1734.09,-420.868\" fill=\"none\" stroke=\"black\"/>\n",
       "<polygon fill=\"black\" points=\"1730.59,-420.915 1734.09,-430.915 1737.59,-420.915 1730.59,-420.915\" stroke=\"black\"/>\n",
       "</g>\n",
       "<!-- 4013778699239912463 -->\n",
       "<g class=\"node\" id=\"node43\"><title>4013778699239912463</title>\n",
       "<polygon fill=\"none\" points=\"1761.09,-211.088 1707.09,-211.088 1707.09,-175.088 1761.09,-175.088 1761.09,-211.088\" stroke=\"black\"/>\n",
       "</g>\n",
       "<!-- 4013778699239912463&#45;&gt;&#45;2503459496826158855 -->\n",
       "<g class=\"edge\" id=\"edge32\"><title>4013778699239912463-&gt;-2503459496826158855</title>\n",
       "<path d=\"M1734.09,-211.093C1734.09,-218.228 1734.09,-227.092 1734.09,-236.662\" fill=\"none\" stroke=\"black\"/>\n",
       "<polygon fill=\"black\" points=\"1730.59,-236.848 1734.09,-246.848 1737.59,-236.848 1730.59,-236.848\" stroke=\"black\"/>\n",
       "</g>\n",
       "<!-- &#45;8982307325235696560 -->\n",
       "<g class=\"node\" id=\"node44\"><title>-8982307325235696560</title>\n",
       "<ellipse cx=\"1734.09\" cy=\"-69.5438\" fill=\"none\" rx=\"69.5877\" ry=\"69.5877\" stroke=\"black\"/>\n",
       "<text font-family=\"Times,serif\" font-size=\"14.00\" text-anchor=\"middle\" x=\"1734.09\" y=\"-65.8438\">read_taxi_df</text>\n",
       "</g>\n",
       "<!-- &#45;8982307325235696560&#45;&gt;4013778699239912463 -->\n",
       "<g class=\"edge\" id=\"edge33\"><title>-8982307325235696560-&gt;4013778699239912463</title>\n",
       "<path d=\"M1734.09,-139.13C1734.09,-148.207 1734.09,-157.047 1734.09,-164.822\" fill=\"none\" stroke=\"black\"/>\n",
       "<polygon fill=\"black\" points=\"1730.59,-165.019 1734.09,-175.019 1737.59,-165.019 1730.59,-165.019\" stroke=\"black\"/>\n",
       "</g>\n",
       "<!-- &#45;392714814042095133 -->\n",
       "<g class=\"node\" id=\"node45\"><title>-392714814042095133</title>\n",
       "<polygon fill=\"none\" points=\"1927.09,-467.275 1873.09,-467.275 1873.09,-431.275 1927.09,-431.275 1927.09,-467.275\" stroke=\"black\"/>\n",
       "</g>\n",
       "<!-- 9210516450564073236 -->\n",
       "<g class=\"node\" id=\"node46\"><title>9210516450564073236</title>\n",
       "<ellipse cx=\"1900.09\" cy=\"-321.181\" fill=\"none\" rx=\"74.187\" ry=\"74.187\" stroke=\"black\"/>\n",
       "<text font-family=\"Times,serif\" font-size=\"14.00\" text-anchor=\"middle\" x=\"1900.09\" y=\"-317.481\">store_parquet</text>\n",
       "</g>\n",
       "<!-- 9210516450564073236&#45;&gt;&#45;392714814042095133 -->\n",
       "<g class=\"edge\" id=\"edge34\"><title>9210516450564073236-&gt;-392714814042095133</title>\n",
       "<path d=\"M1900.09,-395.53C1900.09,-404.515 1900.09,-413.214 1900.09,-420.868\" fill=\"none\" stroke=\"black\"/>\n",
       "<polygon fill=\"black\" points=\"1896.59,-420.915 1900.09,-430.915 1903.59,-420.915 1896.59,-420.915\" stroke=\"black\"/>\n",
       "</g>\n",
       "<!-- 7825349618594219380 -->\n",
       "<g class=\"node\" id=\"node47\"><title>7825349618594219380</title>\n",
       "<polygon fill=\"none\" points=\"1927.09,-211.088 1873.09,-211.088 1873.09,-175.088 1927.09,-175.088 1927.09,-211.088\" stroke=\"black\"/>\n",
       "</g>\n",
       "<!-- 7825349618594219380&#45;&gt;9210516450564073236 -->\n",
       "<g class=\"edge\" id=\"edge35\"><title>7825349618594219380-&gt;9210516450564073236</title>\n",
       "<path d=\"M1900.09,-211.093C1900.09,-218.228 1900.09,-227.092 1900.09,-236.662\" fill=\"none\" stroke=\"black\"/>\n",
       "<polygon fill=\"black\" points=\"1896.59,-236.848 1900.09,-246.848 1903.59,-236.848 1896.59,-236.848\" stroke=\"black\"/>\n",
       "</g>\n",
       "<!-- &#45;3314019155816256845 -->\n",
       "<g class=\"node\" id=\"node48\"><title>-3314019155816256845</title>\n",
       "<ellipse cx=\"1900.09\" cy=\"-69.5438\" fill=\"none\" rx=\"69.5877\" ry=\"69.5877\" stroke=\"black\"/>\n",
       "<text font-family=\"Times,serif\" font-size=\"14.00\" text-anchor=\"middle\" x=\"1900.09\" y=\"-65.8438\">read_taxi_df</text>\n",
       "</g>\n",
       "<!-- &#45;3314019155816256845&#45;&gt;7825349618594219380 -->\n",
       "<g class=\"edge\" id=\"edge36\"><title>-3314019155816256845-&gt;7825349618594219380</title>\n",
       "<path d=\"M1900.09,-139.13C1900.09,-148.207 1900.09,-157.047 1900.09,-164.822\" fill=\"none\" stroke=\"black\"/>\n",
       "<polygon fill=\"black\" points=\"1896.59,-165.019 1900.09,-175.019 1903.59,-165.019 1896.59,-165.019\" stroke=\"black\"/>\n",
       "</g>\n",
       "</g>\n",
       "</svg>"
      ],
      "text/plain": [
       "<IPython.core.display.SVG object>"
      ]
     },
     "execution_count": 23,
     "metadata": {},
     "output_type": "execute_result"
    }
   ],
   "source": [
    "dask.visualize(tasks, filename=\"conver_parquet.svg\")"
   ]
  },
  {
   "cell_type": "code",
   "execution_count": null,
   "metadata": {
    "slideshow": {
     "slide_type": "slide"
    }
   },
   "outputs": [],
   "source": [
    "# Client.compute dispatches the computations lazily, i.e. control is immediately returned opposed to plain dask.compute!\n",
    "future = client.compute(tasks)"
   ]
  },
  {
   "cell_type": "code",
   "execution_count": null,
   "metadata": {
    "slideshow": {
     "slide_type": "fragment"
    }
   },
   "outputs": [],
   "source": [
    "from distributed import progress\n",
    "\n",
    "progress(future)"
   ]
  },
  {
   "cell_type": "markdown",
   "metadata": {},
   "source": [
    "## How to do it right?"
   ]
  },
  {
   "cell_type": "code",
   "execution_count": null,
   "metadata": {},
   "outputs": [],
   "source": [
    "%load solutions/03_convert_parquet.py"
   ]
  },
  {
   "cell_type": "code",
   "execution_count": 24,
   "metadata": {
    "collapsed": true,
    "jupyter": {
     "outputs_hidden": true
    }
   },
   "outputs": [
    {
     "name": "stderr",
     "output_type": "stream",
     "text": [
      "distributed.nanny - WARNING - Restarting worker\n"
     ]
    },
    {
     "ename": "KeyboardInterrupt",
     "evalue": "",
     "output_type": "error",
     "traceback": [
      "\u001b[0;31m---------------------------------------------------------------------------\u001b[0m",
      "\u001b[0;31mKeyboardInterrupt\u001b[0m                         Traceback (most recent call last)",
      "\u001b[0;32m<ipython-input-24-1e5e7b6c09a5>\u001b[0m in \u001b[0;36m<module>\u001b[0;34m\u001b[0m\n\u001b[1;32m      2\u001b[0m \u001b[0;34m\u001b[0m\u001b[0m\n\u001b[1;32m      3\u001b[0m \u001b[0mddf\u001b[0m \u001b[0;34m=\u001b[0m \u001b[0mdd\u001b[0m\u001b[0;34m.\u001b[0m\u001b[0mread_csv\u001b[0m\u001b[0;34m(\u001b[0m\u001b[0mos\u001b[0m\u001b[0;34m.\u001b[0m\u001b[0mpath\u001b[0m\u001b[0;34m.\u001b[0m\u001b[0mjoin\u001b[0m\u001b[0;34m(\u001b[0m\u001b[0mnytaxi_directory\u001b[0m\u001b[0;34m,\u001b[0m \u001b[0;34m\"*.csv\"\u001b[0m\u001b[0;34m)\u001b[0m\u001b[0;34m)\u001b[0m\u001b[0;34m\u001b[0m\u001b[0;34m\u001b[0m\u001b[0m\n\u001b[0;32m----> 4\u001b[0;31m \u001b[0mdd\u001b[0m\u001b[0;34m.\u001b[0m\u001b[0mto_parquet\u001b[0m\u001b[0;34m(\u001b[0m\u001b[0mddf\u001b[0m\u001b[0;34m,\u001b[0m \u001b[0mnytaxi_parquet_directory\u001b[0m\u001b[0;34m,\u001b[0m \u001b[0mengine\u001b[0m\u001b[0;34m=\u001b[0m\u001b[0;34m\"pyarrow\"\u001b[0m\u001b[0;34m)\u001b[0m\u001b[0;34m\u001b[0m\u001b[0;34m\u001b[0m\u001b[0m\n\u001b[0m",
      "\u001b[0;32m~/.conda/envs/tutorial/lib/python3.7/site-packages/dask/dataframe/io/parquet/core.py\u001b[0m in \u001b[0;36mto_parquet\u001b[0;34m(df, path, engine, compression, write_index, append, ignore_divisions, partition_on, storage_options, write_metadata_file, compute, **kwargs)\u001b[0m\n\u001b[1;32m    481\u001b[0m \u001b[0;34m\u001b[0m\u001b[0m\n\u001b[1;32m    482\u001b[0m     \u001b[0;32mif\u001b[0m \u001b[0mcompute\u001b[0m\u001b[0;34m:\u001b[0m\u001b[0;34m\u001b[0m\u001b[0;34m\u001b[0m\u001b[0m\n\u001b[0;32m--> 483\u001b[0;31m         \u001b[0mout\u001b[0m \u001b[0;34m=\u001b[0m \u001b[0mout\u001b[0m\u001b[0;34m.\u001b[0m\u001b[0mcompute\u001b[0m\u001b[0;34m(\u001b[0m\u001b[0;34m)\u001b[0m\u001b[0;34m\u001b[0m\u001b[0;34m\u001b[0m\u001b[0m\n\u001b[0m\u001b[1;32m    484\u001b[0m     \u001b[0;32mreturn\u001b[0m \u001b[0mout\u001b[0m\u001b[0;34m\u001b[0m\u001b[0;34m\u001b[0m\u001b[0m\n\u001b[1;32m    485\u001b[0m \u001b[0;34m\u001b[0m\u001b[0m\n",
      "\u001b[0;32m~/.conda/envs/tutorial/lib/python3.7/site-packages/dask/base.py\u001b[0m in \u001b[0;36mcompute\u001b[0;34m(self, **kwargs)\u001b[0m\n\u001b[1;32m    173\u001b[0m         \u001b[0mdask\u001b[0m\u001b[0;34m.\u001b[0m\u001b[0mbase\u001b[0m\u001b[0;34m.\u001b[0m\u001b[0mcompute\u001b[0m\u001b[0;34m\u001b[0m\u001b[0;34m\u001b[0m\u001b[0m\n\u001b[1;32m    174\u001b[0m         \"\"\"\n\u001b[0;32m--> 175\u001b[0;31m         \u001b[0;34m(\u001b[0m\u001b[0mresult\u001b[0m\u001b[0;34m,\u001b[0m\u001b[0;34m)\u001b[0m \u001b[0;34m=\u001b[0m \u001b[0mcompute\u001b[0m\u001b[0;34m(\u001b[0m\u001b[0mself\u001b[0m\u001b[0;34m,\u001b[0m \u001b[0mtraverse\u001b[0m\u001b[0;34m=\u001b[0m\u001b[0;32mFalse\u001b[0m\u001b[0;34m,\u001b[0m \u001b[0;34m**\u001b[0m\u001b[0mkwargs\u001b[0m\u001b[0;34m)\u001b[0m\u001b[0;34m\u001b[0m\u001b[0;34m\u001b[0m\u001b[0m\n\u001b[0m\u001b[1;32m    176\u001b[0m         \u001b[0;32mreturn\u001b[0m \u001b[0mresult\u001b[0m\u001b[0;34m\u001b[0m\u001b[0;34m\u001b[0m\u001b[0m\n\u001b[1;32m    177\u001b[0m \u001b[0;34m\u001b[0m\u001b[0m\n",
      "\u001b[0;32m~/.conda/envs/tutorial/lib/python3.7/site-packages/dask/base.py\u001b[0m in \u001b[0;36mcompute\u001b[0;34m(*args, **kwargs)\u001b[0m\n\u001b[1;32m    444\u001b[0m     \u001b[0mkeys\u001b[0m \u001b[0;34m=\u001b[0m \u001b[0;34m[\u001b[0m\u001b[0mx\u001b[0m\u001b[0;34m.\u001b[0m\u001b[0m__dask_keys__\u001b[0m\u001b[0;34m(\u001b[0m\u001b[0;34m)\u001b[0m \u001b[0;32mfor\u001b[0m \u001b[0mx\u001b[0m \u001b[0;32min\u001b[0m \u001b[0mcollections\u001b[0m\u001b[0;34m]\u001b[0m\u001b[0;34m\u001b[0m\u001b[0;34m\u001b[0m\u001b[0m\n\u001b[1;32m    445\u001b[0m     \u001b[0mpostcomputes\u001b[0m \u001b[0;34m=\u001b[0m \u001b[0;34m[\u001b[0m\u001b[0mx\u001b[0m\u001b[0;34m.\u001b[0m\u001b[0m__dask_postcompute__\u001b[0m\u001b[0;34m(\u001b[0m\u001b[0;34m)\u001b[0m \u001b[0;32mfor\u001b[0m \u001b[0mx\u001b[0m \u001b[0;32min\u001b[0m \u001b[0mcollections\u001b[0m\u001b[0;34m]\u001b[0m\u001b[0;34m\u001b[0m\u001b[0;34m\u001b[0m\u001b[0m\n\u001b[0;32m--> 446\u001b[0;31m     \u001b[0mresults\u001b[0m \u001b[0;34m=\u001b[0m \u001b[0mschedule\u001b[0m\u001b[0;34m(\u001b[0m\u001b[0mdsk\u001b[0m\u001b[0;34m,\u001b[0m \u001b[0mkeys\u001b[0m\u001b[0;34m,\u001b[0m \u001b[0;34m**\u001b[0m\u001b[0mkwargs\u001b[0m\u001b[0;34m)\u001b[0m\u001b[0;34m\u001b[0m\u001b[0;34m\u001b[0m\u001b[0m\n\u001b[0m\u001b[1;32m    447\u001b[0m     \u001b[0;32mreturn\u001b[0m \u001b[0mrepack\u001b[0m\u001b[0;34m(\u001b[0m\u001b[0;34m[\u001b[0m\u001b[0mf\u001b[0m\u001b[0;34m(\u001b[0m\u001b[0mr\u001b[0m\u001b[0;34m,\u001b[0m \u001b[0;34m*\u001b[0m\u001b[0ma\u001b[0m\u001b[0;34m)\u001b[0m \u001b[0;32mfor\u001b[0m \u001b[0mr\u001b[0m\u001b[0;34m,\u001b[0m \u001b[0;34m(\u001b[0m\u001b[0mf\u001b[0m\u001b[0;34m,\u001b[0m \u001b[0ma\u001b[0m\u001b[0;34m)\u001b[0m \u001b[0;32min\u001b[0m \u001b[0mzip\u001b[0m\u001b[0;34m(\u001b[0m\u001b[0mresults\u001b[0m\u001b[0;34m,\u001b[0m \u001b[0mpostcomputes\u001b[0m\u001b[0;34m)\u001b[0m\u001b[0;34m]\u001b[0m\u001b[0;34m)\u001b[0m\u001b[0;34m\u001b[0m\u001b[0;34m\u001b[0m\u001b[0m\n\u001b[1;32m    448\u001b[0m \u001b[0;34m\u001b[0m\u001b[0m\n",
      "\u001b[0;32m~/.conda/envs/tutorial/lib/python3.7/site-packages/distributed/client.py\u001b[0m in \u001b[0;36mget\u001b[0;34m(self, dsk, keys, restrictions, loose_restrictions, resources, sync, asynchronous, direct, retries, priority, fifo_timeout, actors, **kwargs)\u001b[0m\n\u001b[1;32m   2508\u001b[0m                     \u001b[0mshould_rejoin\u001b[0m \u001b[0;34m=\u001b[0m \u001b[0;32mFalse\u001b[0m\u001b[0;34m\u001b[0m\u001b[0;34m\u001b[0m\u001b[0m\n\u001b[1;32m   2509\u001b[0m             \u001b[0;32mtry\u001b[0m\u001b[0;34m:\u001b[0m\u001b[0;34m\u001b[0m\u001b[0;34m\u001b[0m\u001b[0m\n\u001b[0;32m-> 2510\u001b[0;31m                 \u001b[0mresults\u001b[0m \u001b[0;34m=\u001b[0m \u001b[0mself\u001b[0m\u001b[0;34m.\u001b[0m\u001b[0mgather\u001b[0m\u001b[0;34m(\u001b[0m\u001b[0mpacked\u001b[0m\u001b[0;34m,\u001b[0m \u001b[0masynchronous\u001b[0m\u001b[0;34m=\u001b[0m\u001b[0masynchronous\u001b[0m\u001b[0;34m,\u001b[0m \u001b[0mdirect\u001b[0m\u001b[0;34m=\u001b[0m\u001b[0mdirect\u001b[0m\u001b[0;34m)\u001b[0m\u001b[0;34m\u001b[0m\u001b[0;34m\u001b[0m\u001b[0m\n\u001b[0m\u001b[1;32m   2511\u001b[0m             \u001b[0;32mfinally\u001b[0m\u001b[0;34m:\u001b[0m\u001b[0;34m\u001b[0m\u001b[0;34m\u001b[0m\u001b[0m\n\u001b[1;32m   2512\u001b[0m                 \u001b[0;32mfor\u001b[0m \u001b[0mf\u001b[0m \u001b[0;32min\u001b[0m \u001b[0mfutures\u001b[0m\u001b[0;34m.\u001b[0m\u001b[0mvalues\u001b[0m\u001b[0;34m(\u001b[0m\u001b[0;34m)\u001b[0m\u001b[0;34m:\u001b[0m\u001b[0;34m\u001b[0m\u001b[0;34m\u001b[0m\u001b[0m\n",
      "\u001b[0;32m~/.conda/envs/tutorial/lib/python3.7/site-packages/distributed/client.py\u001b[0m in \u001b[0;36mgather\u001b[0;34m(self, futures, errors, direct, asynchronous)\u001b[0m\n\u001b[1;32m   1810\u001b[0m                 \u001b[0mdirect\u001b[0m\u001b[0;34m=\u001b[0m\u001b[0mdirect\u001b[0m\u001b[0;34m,\u001b[0m\u001b[0;34m\u001b[0m\u001b[0;34m\u001b[0m\u001b[0m\n\u001b[1;32m   1811\u001b[0m                 \u001b[0mlocal_worker\u001b[0m\u001b[0;34m=\u001b[0m\u001b[0mlocal_worker\u001b[0m\u001b[0;34m,\u001b[0m\u001b[0;34m\u001b[0m\u001b[0;34m\u001b[0m\u001b[0m\n\u001b[0;32m-> 1812\u001b[0;31m                 \u001b[0masynchronous\u001b[0m\u001b[0;34m=\u001b[0m\u001b[0masynchronous\u001b[0m\u001b[0;34m,\u001b[0m\u001b[0;34m\u001b[0m\u001b[0;34m\u001b[0m\u001b[0m\n\u001b[0m\u001b[1;32m   1813\u001b[0m             )\n\u001b[1;32m   1814\u001b[0m \u001b[0;34m\u001b[0m\u001b[0m\n",
      "\u001b[0;32m~/.conda/envs/tutorial/lib/python3.7/site-packages/distributed/client.py\u001b[0m in \u001b[0;36msync\u001b[0;34m(self, func, asynchronous, callback_timeout, *args, **kwargs)\u001b[0m\n\u001b[1;32m    751\u001b[0m         \u001b[0;32melse\u001b[0m\u001b[0;34m:\u001b[0m\u001b[0;34m\u001b[0m\u001b[0;34m\u001b[0m\u001b[0m\n\u001b[1;32m    752\u001b[0m             return sync(\n\u001b[0;32m--> 753\u001b[0;31m                 \u001b[0mself\u001b[0m\u001b[0;34m.\u001b[0m\u001b[0mloop\u001b[0m\u001b[0;34m,\u001b[0m \u001b[0mfunc\u001b[0m\u001b[0;34m,\u001b[0m \u001b[0;34m*\u001b[0m\u001b[0margs\u001b[0m\u001b[0;34m,\u001b[0m \u001b[0mcallback_timeout\u001b[0m\u001b[0;34m=\u001b[0m\u001b[0mcallback_timeout\u001b[0m\u001b[0;34m,\u001b[0m \u001b[0;34m**\u001b[0m\u001b[0mkwargs\u001b[0m\u001b[0;34m\u001b[0m\u001b[0;34m\u001b[0m\u001b[0m\n\u001b[0m\u001b[1;32m    754\u001b[0m             )\n\u001b[1;32m    755\u001b[0m \u001b[0;34m\u001b[0m\u001b[0m\n",
      "\u001b[0;32m~/.conda/envs/tutorial/lib/python3.7/site-packages/distributed/utils.py\u001b[0m in \u001b[0;36msync\u001b[0;34m(loop, func, callback_timeout, *args, **kwargs)\u001b[0m\n\u001b[1;32m    333\u001b[0m     \u001b[0;32melse\u001b[0m\u001b[0;34m:\u001b[0m\u001b[0;34m\u001b[0m\u001b[0;34m\u001b[0m\u001b[0m\n\u001b[1;32m    334\u001b[0m         \u001b[0;32mwhile\u001b[0m \u001b[0;32mnot\u001b[0m \u001b[0me\u001b[0m\u001b[0;34m.\u001b[0m\u001b[0mis_set\u001b[0m\u001b[0;34m(\u001b[0m\u001b[0;34m)\u001b[0m\u001b[0;34m:\u001b[0m\u001b[0;34m\u001b[0m\u001b[0;34m\u001b[0m\u001b[0m\n\u001b[0;32m--> 335\u001b[0;31m             \u001b[0me\u001b[0m\u001b[0;34m.\u001b[0m\u001b[0mwait\u001b[0m\u001b[0;34m(\u001b[0m\u001b[0;36m10\u001b[0m\u001b[0;34m)\u001b[0m\u001b[0;34m\u001b[0m\u001b[0;34m\u001b[0m\u001b[0m\n\u001b[0m\u001b[1;32m    336\u001b[0m     \u001b[0;32mif\u001b[0m \u001b[0merror\u001b[0m\u001b[0;34m[\u001b[0m\u001b[0;36m0\u001b[0m\u001b[0;34m]\u001b[0m\u001b[0;34m:\u001b[0m\u001b[0;34m\u001b[0m\u001b[0;34m\u001b[0m\u001b[0m\n\u001b[1;32m    337\u001b[0m         \u001b[0msix\u001b[0m\u001b[0;34m.\u001b[0m\u001b[0mreraise\u001b[0m\u001b[0;34m(\u001b[0m\u001b[0;34m*\u001b[0m\u001b[0merror\u001b[0m\u001b[0;34m[\u001b[0m\u001b[0;36m0\u001b[0m\u001b[0;34m]\u001b[0m\u001b[0;34m)\u001b[0m\u001b[0;34m\u001b[0m\u001b[0;34m\u001b[0m\u001b[0m\n",
      "\u001b[0;32m~/.conda/envs/tutorial/lib/python3.7/threading.py\u001b[0m in \u001b[0;36mwait\u001b[0;34m(self, timeout)\u001b[0m\n\u001b[1;32m    550\u001b[0m             \u001b[0msignaled\u001b[0m \u001b[0;34m=\u001b[0m \u001b[0mself\u001b[0m\u001b[0;34m.\u001b[0m\u001b[0m_flag\u001b[0m\u001b[0;34m\u001b[0m\u001b[0;34m\u001b[0m\u001b[0m\n\u001b[1;32m    551\u001b[0m             \u001b[0;32mif\u001b[0m \u001b[0;32mnot\u001b[0m \u001b[0msignaled\u001b[0m\u001b[0;34m:\u001b[0m\u001b[0;34m\u001b[0m\u001b[0;34m\u001b[0m\u001b[0m\n\u001b[0;32m--> 552\u001b[0;31m                 \u001b[0msignaled\u001b[0m \u001b[0;34m=\u001b[0m \u001b[0mself\u001b[0m\u001b[0;34m.\u001b[0m\u001b[0m_cond\u001b[0m\u001b[0;34m.\u001b[0m\u001b[0mwait\u001b[0m\u001b[0;34m(\u001b[0m\u001b[0mtimeout\u001b[0m\u001b[0;34m)\u001b[0m\u001b[0;34m\u001b[0m\u001b[0;34m\u001b[0m\u001b[0m\n\u001b[0m\u001b[1;32m    553\u001b[0m             \u001b[0;32mreturn\u001b[0m \u001b[0msignaled\u001b[0m\u001b[0;34m\u001b[0m\u001b[0;34m\u001b[0m\u001b[0m\n\u001b[1;32m    554\u001b[0m \u001b[0;34m\u001b[0m\u001b[0m\n",
      "\u001b[0;32m~/.conda/envs/tutorial/lib/python3.7/threading.py\u001b[0m in \u001b[0;36mwait\u001b[0;34m(self, timeout)\u001b[0m\n\u001b[1;32m    298\u001b[0m             \u001b[0;32melse\u001b[0m\u001b[0;34m:\u001b[0m\u001b[0;34m\u001b[0m\u001b[0;34m\u001b[0m\u001b[0m\n\u001b[1;32m    299\u001b[0m                 \u001b[0;32mif\u001b[0m \u001b[0mtimeout\u001b[0m \u001b[0;34m>\u001b[0m \u001b[0;36m0\u001b[0m\u001b[0;34m:\u001b[0m\u001b[0;34m\u001b[0m\u001b[0;34m\u001b[0m\u001b[0m\n\u001b[0;32m--> 300\u001b[0;31m                     \u001b[0mgotit\u001b[0m \u001b[0;34m=\u001b[0m \u001b[0mwaiter\u001b[0m\u001b[0;34m.\u001b[0m\u001b[0macquire\u001b[0m\u001b[0;34m(\u001b[0m\u001b[0;32mTrue\u001b[0m\u001b[0;34m,\u001b[0m \u001b[0mtimeout\u001b[0m\u001b[0;34m)\u001b[0m\u001b[0;34m\u001b[0m\u001b[0;34m\u001b[0m\u001b[0m\n\u001b[0m\u001b[1;32m    301\u001b[0m                 \u001b[0;32melse\u001b[0m\u001b[0;34m:\u001b[0m\u001b[0;34m\u001b[0m\u001b[0;34m\u001b[0m\u001b[0m\n\u001b[1;32m    302\u001b[0m                     \u001b[0mgotit\u001b[0m \u001b[0;34m=\u001b[0m \u001b[0mwaiter\u001b[0m\u001b[0;34m.\u001b[0m\u001b[0macquire\u001b[0m\u001b[0;34m(\u001b[0m\u001b[0;32mFalse\u001b[0m\u001b[0;34m)\u001b[0m\u001b[0;34m\u001b[0m\u001b[0;34m\u001b[0m\u001b[0m\n",
      "\u001b[0;31mKeyboardInterrupt\u001b[0m: "
     ]
    }
   ],
   "source": [
    "import dask.dataframe as dd\n",
    "\n",
    "ddf = dd.read_csv(os.path.join(nytaxi_directory, \"*.csv\"))\n",
    "dd.to_parquet(ddf, nytaxi_parquet_directory, engine=\"pyarrow\")"
   ]
  },
  {
   "cell_type": "code",
   "execution_count": 25,
   "metadata": {},
   "outputs": [
    {
     "ename": "ImportError",
     "evalue": "Missing optional dependency 'tables'.  Use pip or conda to install tables.",
     "output_type": "error",
     "traceback": [
      "\u001b[0;31m---------------------------------------------------------------------------\u001b[0m",
      "\u001b[0;31mImportError\u001b[0m                               Traceback (most recent call last)",
      "\u001b[0;32m<ipython-input-25-cbc58a1f4170>\u001b[0m in \u001b[0;36m<module>\u001b[0;34m\u001b[0m\n\u001b[1;32m      2\u001b[0m \u001b[0;34m\u001b[0m\u001b[0m\n\u001b[1;32m      3\u001b[0m \u001b[0mddf\u001b[0m \u001b[0;34m=\u001b[0m \u001b[0mdd\u001b[0m\u001b[0;34m.\u001b[0m\u001b[0mread_csv\u001b[0m\u001b[0;34m(\u001b[0m\u001b[0mos\u001b[0m\u001b[0;34m.\u001b[0m\u001b[0mpath\u001b[0m\u001b[0;34m.\u001b[0m\u001b[0mjoin\u001b[0m\u001b[0;34m(\u001b[0m\u001b[0mnytaxi_directory\u001b[0m\u001b[0;34m,\u001b[0m \u001b[0;34m\"*.csv\"\u001b[0m\u001b[0;34m)\u001b[0m\u001b[0;34m)\u001b[0m\u001b[0;34m\u001b[0m\u001b[0;34m\u001b[0m\u001b[0m\n\u001b[0;32m----> 4\u001b[0;31m \u001b[0mdd\u001b[0m\u001b[0;34m.\u001b[0m\u001b[0mto_hdf\u001b[0m\u001b[0;34m(\u001b[0m\u001b[0mddf\u001b[0m\u001b[0;34m,\u001b[0m \u001b[0;34m\"/data\"\u001b[0m\u001b[0;34m,\u001b[0m \u001b[0mnytaxi_parquet_directory\u001b[0m\u001b[0;34m)\u001b[0m\u001b[0;34m\u001b[0m\u001b[0;34m\u001b[0m\u001b[0m\n\u001b[0m",
      "\u001b[0;32m~/.conda/envs/tutorial/lib/python3.7/site-packages/dask/dataframe/io/hdf.py\u001b[0m in \u001b[0;36mto_hdf\u001b[0;34m(df, path, key, mode, append, scheduler, name_function, compute, lock, dask_kwargs, **kwargs)\u001b[0m\n\u001b[1;32m    255\u001b[0m     \u001b[0;32mif\u001b[0m \u001b[0mcompute\u001b[0m\u001b[0;34m:\u001b[0m\u001b[0;34m\u001b[0m\u001b[0;34m\u001b[0m\u001b[0m\n\u001b[1;32m    256\u001b[0m         compute_as_if_collection(\n\u001b[0;32m--> 257\u001b[0;31m             \u001b[0mDataFrame\u001b[0m\u001b[0;34m,\u001b[0m \u001b[0mdsk\u001b[0m\u001b[0;34m,\u001b[0m \u001b[0mkeys\u001b[0m\u001b[0;34m,\u001b[0m \u001b[0mscheduler\u001b[0m\u001b[0;34m=\u001b[0m\u001b[0mscheduler\u001b[0m\u001b[0;34m,\u001b[0m \u001b[0;34m**\u001b[0m\u001b[0mdask_kwargs\u001b[0m\u001b[0;34m\u001b[0m\u001b[0;34m\u001b[0m\u001b[0m\n\u001b[0m\u001b[1;32m    258\u001b[0m         )\n\u001b[1;32m    259\u001b[0m         \u001b[0;32mreturn\u001b[0m \u001b[0mfilenames\u001b[0m\u001b[0;34m\u001b[0m\u001b[0;34m\u001b[0m\u001b[0m\n",
      "\u001b[0;32m~/.conda/envs/tutorial/lib/python3.7/site-packages/dask/base.py\u001b[0m in \u001b[0;36mcompute_as_if_collection\u001b[0;34m(cls, dsk, keys, scheduler, get, **kwargs)\u001b[0m\n\u001b[1;32m    200\u001b[0m     \u001b[0mschedule\u001b[0m \u001b[0;34m=\u001b[0m \u001b[0mget_scheduler\u001b[0m\u001b[0;34m(\u001b[0m\u001b[0mscheduler\u001b[0m\u001b[0;34m=\u001b[0m\u001b[0mscheduler\u001b[0m\u001b[0;34m,\u001b[0m \u001b[0mcls\u001b[0m\u001b[0;34m=\u001b[0m\u001b[0mcls\u001b[0m\u001b[0;34m,\u001b[0m \u001b[0mget\u001b[0m\u001b[0;34m=\u001b[0m\u001b[0mget\u001b[0m\u001b[0;34m)\u001b[0m\u001b[0;34m\u001b[0m\u001b[0;34m\u001b[0m\u001b[0m\n\u001b[1;32m    201\u001b[0m     \u001b[0mdsk2\u001b[0m \u001b[0;34m=\u001b[0m \u001b[0moptimization_function\u001b[0m\u001b[0;34m(\u001b[0m\u001b[0mcls\u001b[0m\u001b[0;34m)\u001b[0m\u001b[0;34m(\u001b[0m\u001b[0mensure_dict\u001b[0m\u001b[0;34m(\u001b[0m\u001b[0mdsk\u001b[0m\u001b[0;34m)\u001b[0m\u001b[0;34m,\u001b[0m \u001b[0mkeys\u001b[0m\u001b[0;34m,\u001b[0m \u001b[0;34m**\u001b[0m\u001b[0mkwargs\u001b[0m\u001b[0;34m)\u001b[0m\u001b[0;34m\u001b[0m\u001b[0;34m\u001b[0m\u001b[0m\n\u001b[0;32m--> 202\u001b[0;31m     \u001b[0;32mreturn\u001b[0m \u001b[0mschedule\u001b[0m\u001b[0;34m(\u001b[0m\u001b[0mdsk2\u001b[0m\u001b[0;34m,\u001b[0m \u001b[0mkeys\u001b[0m\u001b[0;34m,\u001b[0m \u001b[0;34m**\u001b[0m\u001b[0mkwargs\u001b[0m\u001b[0;34m)\u001b[0m\u001b[0;34m\u001b[0m\u001b[0;34m\u001b[0m\u001b[0m\n\u001b[0m\u001b[1;32m    203\u001b[0m \u001b[0;34m\u001b[0m\u001b[0m\n\u001b[1;32m    204\u001b[0m \u001b[0;34m\u001b[0m\u001b[0m\n",
      "\u001b[0;32m~/.conda/envs/tutorial/lib/python3.7/site-packages/distributed/client.py\u001b[0m in \u001b[0;36mget\u001b[0;34m(self, dsk, keys, restrictions, loose_restrictions, resources, sync, asynchronous, direct, retries, priority, fifo_timeout, actors, **kwargs)\u001b[0m\n\u001b[1;32m   2508\u001b[0m                     \u001b[0mshould_rejoin\u001b[0m \u001b[0;34m=\u001b[0m \u001b[0;32mFalse\u001b[0m\u001b[0;34m\u001b[0m\u001b[0;34m\u001b[0m\u001b[0m\n\u001b[1;32m   2509\u001b[0m             \u001b[0;32mtry\u001b[0m\u001b[0;34m:\u001b[0m\u001b[0;34m\u001b[0m\u001b[0;34m\u001b[0m\u001b[0m\n\u001b[0;32m-> 2510\u001b[0;31m                 \u001b[0mresults\u001b[0m \u001b[0;34m=\u001b[0m \u001b[0mself\u001b[0m\u001b[0;34m.\u001b[0m\u001b[0mgather\u001b[0m\u001b[0;34m(\u001b[0m\u001b[0mpacked\u001b[0m\u001b[0;34m,\u001b[0m \u001b[0masynchronous\u001b[0m\u001b[0;34m=\u001b[0m\u001b[0masynchronous\u001b[0m\u001b[0;34m,\u001b[0m \u001b[0mdirect\u001b[0m\u001b[0;34m=\u001b[0m\u001b[0mdirect\u001b[0m\u001b[0;34m)\u001b[0m\u001b[0;34m\u001b[0m\u001b[0;34m\u001b[0m\u001b[0m\n\u001b[0m\u001b[1;32m   2511\u001b[0m             \u001b[0;32mfinally\u001b[0m\u001b[0;34m:\u001b[0m\u001b[0;34m\u001b[0m\u001b[0;34m\u001b[0m\u001b[0m\n\u001b[1;32m   2512\u001b[0m                 \u001b[0;32mfor\u001b[0m \u001b[0mf\u001b[0m \u001b[0;32min\u001b[0m \u001b[0mfutures\u001b[0m\u001b[0;34m.\u001b[0m\u001b[0mvalues\u001b[0m\u001b[0;34m(\u001b[0m\u001b[0;34m)\u001b[0m\u001b[0;34m:\u001b[0m\u001b[0;34m\u001b[0m\u001b[0;34m\u001b[0m\u001b[0m\n",
      "\u001b[0;32m~/.conda/envs/tutorial/lib/python3.7/site-packages/distributed/client.py\u001b[0m in \u001b[0;36mgather\u001b[0;34m(self, futures, errors, direct, asynchronous)\u001b[0m\n\u001b[1;32m   1810\u001b[0m                 \u001b[0mdirect\u001b[0m\u001b[0;34m=\u001b[0m\u001b[0mdirect\u001b[0m\u001b[0;34m,\u001b[0m\u001b[0;34m\u001b[0m\u001b[0;34m\u001b[0m\u001b[0m\n\u001b[1;32m   1811\u001b[0m                 \u001b[0mlocal_worker\u001b[0m\u001b[0;34m=\u001b[0m\u001b[0mlocal_worker\u001b[0m\u001b[0;34m,\u001b[0m\u001b[0;34m\u001b[0m\u001b[0;34m\u001b[0m\u001b[0m\n\u001b[0;32m-> 1812\u001b[0;31m                 \u001b[0masynchronous\u001b[0m\u001b[0;34m=\u001b[0m\u001b[0masynchronous\u001b[0m\u001b[0;34m,\u001b[0m\u001b[0;34m\u001b[0m\u001b[0;34m\u001b[0m\u001b[0m\n\u001b[0m\u001b[1;32m   1813\u001b[0m             )\n\u001b[1;32m   1814\u001b[0m \u001b[0;34m\u001b[0m\u001b[0m\n",
      "\u001b[0;32m~/.conda/envs/tutorial/lib/python3.7/site-packages/distributed/client.py\u001b[0m in \u001b[0;36msync\u001b[0;34m(self, func, asynchronous, callback_timeout, *args, **kwargs)\u001b[0m\n\u001b[1;32m    751\u001b[0m         \u001b[0;32melse\u001b[0m\u001b[0;34m:\u001b[0m\u001b[0;34m\u001b[0m\u001b[0;34m\u001b[0m\u001b[0m\n\u001b[1;32m    752\u001b[0m             return sync(\n\u001b[0;32m--> 753\u001b[0;31m                 \u001b[0mself\u001b[0m\u001b[0;34m.\u001b[0m\u001b[0mloop\u001b[0m\u001b[0;34m,\u001b[0m \u001b[0mfunc\u001b[0m\u001b[0;34m,\u001b[0m \u001b[0;34m*\u001b[0m\u001b[0margs\u001b[0m\u001b[0;34m,\u001b[0m \u001b[0mcallback_timeout\u001b[0m\u001b[0;34m=\u001b[0m\u001b[0mcallback_timeout\u001b[0m\u001b[0;34m,\u001b[0m \u001b[0;34m**\u001b[0m\u001b[0mkwargs\u001b[0m\u001b[0;34m\u001b[0m\u001b[0;34m\u001b[0m\u001b[0m\n\u001b[0m\u001b[1;32m    754\u001b[0m             )\n\u001b[1;32m    755\u001b[0m \u001b[0;34m\u001b[0m\u001b[0m\n",
      "\u001b[0;32m~/.conda/envs/tutorial/lib/python3.7/site-packages/distributed/utils.py\u001b[0m in \u001b[0;36msync\u001b[0;34m(loop, func, callback_timeout, *args, **kwargs)\u001b[0m\n\u001b[1;32m    335\u001b[0m             \u001b[0me\u001b[0m\u001b[0;34m.\u001b[0m\u001b[0mwait\u001b[0m\u001b[0;34m(\u001b[0m\u001b[0;36m10\u001b[0m\u001b[0;34m)\u001b[0m\u001b[0;34m\u001b[0m\u001b[0;34m\u001b[0m\u001b[0m\n\u001b[1;32m    336\u001b[0m     \u001b[0;32mif\u001b[0m \u001b[0merror\u001b[0m\u001b[0;34m[\u001b[0m\u001b[0;36m0\u001b[0m\u001b[0;34m]\u001b[0m\u001b[0;34m:\u001b[0m\u001b[0;34m\u001b[0m\u001b[0;34m\u001b[0m\u001b[0m\n\u001b[0;32m--> 337\u001b[0;31m         \u001b[0msix\u001b[0m\u001b[0;34m.\u001b[0m\u001b[0mreraise\u001b[0m\u001b[0;34m(\u001b[0m\u001b[0;34m*\u001b[0m\u001b[0merror\u001b[0m\u001b[0;34m[\u001b[0m\u001b[0;36m0\u001b[0m\u001b[0;34m]\u001b[0m\u001b[0;34m)\u001b[0m\u001b[0;34m\u001b[0m\u001b[0;34m\u001b[0m\u001b[0m\n\u001b[0m\u001b[1;32m    338\u001b[0m     \u001b[0;32melse\u001b[0m\u001b[0;34m:\u001b[0m\u001b[0;34m\u001b[0m\u001b[0;34m\u001b[0m\u001b[0m\n\u001b[1;32m    339\u001b[0m         \u001b[0;32mreturn\u001b[0m \u001b[0mresult\u001b[0m\u001b[0;34m[\u001b[0m\u001b[0;36m0\u001b[0m\u001b[0;34m]\u001b[0m\u001b[0;34m\u001b[0m\u001b[0;34m\u001b[0m\u001b[0m\n",
      "\u001b[0;32m~/.conda/envs/tutorial/lib/python3.7/site-packages/six.py\u001b[0m in \u001b[0;36mreraise\u001b[0;34m(tp, value, tb)\u001b[0m\n\u001b[1;32m    691\u001b[0m             \u001b[0;32mif\u001b[0m \u001b[0mvalue\u001b[0m\u001b[0;34m.\u001b[0m\u001b[0m__traceback__\u001b[0m \u001b[0;32mis\u001b[0m \u001b[0;32mnot\u001b[0m \u001b[0mtb\u001b[0m\u001b[0;34m:\u001b[0m\u001b[0;34m\u001b[0m\u001b[0;34m\u001b[0m\u001b[0m\n\u001b[1;32m    692\u001b[0m                 \u001b[0;32mraise\u001b[0m \u001b[0mvalue\u001b[0m\u001b[0;34m.\u001b[0m\u001b[0mwith_traceback\u001b[0m\u001b[0;34m(\u001b[0m\u001b[0mtb\u001b[0m\u001b[0;34m)\u001b[0m\u001b[0;34m\u001b[0m\u001b[0;34m\u001b[0m\u001b[0m\n\u001b[0;32m--> 693\u001b[0;31m             \u001b[0;32mraise\u001b[0m \u001b[0mvalue\u001b[0m\u001b[0;34m\u001b[0m\u001b[0;34m\u001b[0m\u001b[0m\n\u001b[0m\u001b[1;32m    694\u001b[0m         \u001b[0;32mfinally\u001b[0m\u001b[0;34m:\u001b[0m\u001b[0;34m\u001b[0m\u001b[0;34m\u001b[0m\u001b[0m\n\u001b[1;32m    695\u001b[0m             \u001b[0mvalue\u001b[0m \u001b[0;34m=\u001b[0m \u001b[0;32mNone\u001b[0m\u001b[0;34m\u001b[0m\u001b[0;34m\u001b[0m\u001b[0m\n",
      "\u001b[0;32m~/.conda/envs/tutorial/lib/python3.7/site-packages/distributed/utils.py\u001b[0m in \u001b[0;36mf\u001b[0;34m()\u001b[0m\n\u001b[1;32m    320\u001b[0m             \u001b[0;32mif\u001b[0m \u001b[0mcallback_timeout\u001b[0m \u001b[0;32mis\u001b[0m \u001b[0;32mnot\u001b[0m \u001b[0;32mNone\u001b[0m\u001b[0;34m:\u001b[0m\u001b[0;34m\u001b[0m\u001b[0;34m\u001b[0m\u001b[0m\n\u001b[1;32m    321\u001b[0m                 \u001b[0mfuture\u001b[0m \u001b[0;34m=\u001b[0m \u001b[0mgen\u001b[0m\u001b[0;34m.\u001b[0m\u001b[0mwith_timeout\u001b[0m\u001b[0;34m(\u001b[0m\u001b[0mtimedelta\u001b[0m\u001b[0;34m(\u001b[0m\u001b[0mseconds\u001b[0m\u001b[0;34m=\u001b[0m\u001b[0mcallback_timeout\u001b[0m\u001b[0;34m)\u001b[0m\u001b[0;34m,\u001b[0m \u001b[0mfuture\u001b[0m\u001b[0;34m)\u001b[0m\u001b[0;34m\u001b[0m\u001b[0;34m\u001b[0m\u001b[0m\n\u001b[0;32m--> 322\u001b[0;31m             \u001b[0mresult\u001b[0m\u001b[0;34m[\u001b[0m\u001b[0;36m0\u001b[0m\u001b[0;34m]\u001b[0m \u001b[0;34m=\u001b[0m \u001b[0;32myield\u001b[0m \u001b[0mfuture\u001b[0m\u001b[0;34m\u001b[0m\u001b[0;34m\u001b[0m\u001b[0m\n\u001b[0m\u001b[1;32m    323\u001b[0m         \u001b[0;32mexcept\u001b[0m \u001b[0mException\u001b[0m \u001b[0;32mas\u001b[0m \u001b[0mexc\u001b[0m\u001b[0;34m:\u001b[0m\u001b[0;34m\u001b[0m\u001b[0;34m\u001b[0m\u001b[0m\n\u001b[1;32m    324\u001b[0m             \u001b[0merror\u001b[0m\u001b[0;34m[\u001b[0m\u001b[0;36m0\u001b[0m\u001b[0;34m]\u001b[0m \u001b[0;34m=\u001b[0m \u001b[0msys\u001b[0m\u001b[0;34m.\u001b[0m\u001b[0mexc_info\u001b[0m\u001b[0;34m(\u001b[0m\u001b[0;34m)\u001b[0m\u001b[0;34m\u001b[0m\u001b[0;34m\u001b[0m\u001b[0m\n",
      "\u001b[0;32m~/.conda/envs/tutorial/lib/python3.7/site-packages/tornado/gen.py\u001b[0m in \u001b[0;36mrun\u001b[0;34m(self)\u001b[0m\n\u001b[1;32m    733\u001b[0m \u001b[0;34m\u001b[0m\u001b[0m\n\u001b[1;32m    734\u001b[0m                     \u001b[0;32mtry\u001b[0m\u001b[0;34m:\u001b[0m\u001b[0;34m\u001b[0m\u001b[0;34m\u001b[0m\u001b[0m\n\u001b[0;32m--> 735\u001b[0;31m                         \u001b[0mvalue\u001b[0m \u001b[0;34m=\u001b[0m \u001b[0mfuture\u001b[0m\u001b[0;34m.\u001b[0m\u001b[0mresult\u001b[0m\u001b[0;34m(\u001b[0m\u001b[0;34m)\u001b[0m\u001b[0;34m\u001b[0m\u001b[0;34m\u001b[0m\u001b[0m\n\u001b[0m\u001b[1;32m    736\u001b[0m                     \u001b[0;32mexcept\u001b[0m \u001b[0mException\u001b[0m\u001b[0;34m:\u001b[0m\u001b[0;34m\u001b[0m\u001b[0;34m\u001b[0m\u001b[0m\n\u001b[1;32m    737\u001b[0m                         \u001b[0mexc_info\u001b[0m \u001b[0;34m=\u001b[0m \u001b[0msys\u001b[0m\u001b[0;34m.\u001b[0m\u001b[0mexc_info\u001b[0m\u001b[0;34m(\u001b[0m\u001b[0;34m)\u001b[0m\u001b[0;34m\u001b[0m\u001b[0;34m\u001b[0m\u001b[0m\n",
      "\u001b[0;32m~/.conda/envs/tutorial/lib/python3.7/site-packages/distributed/client.py\u001b[0m in \u001b[0;36m_gather\u001b[0;34m(self, futures, errors, direct, local_worker)\u001b[0m\n\u001b[1;32m   1666\u001b[0m                             \u001b[0mexc\u001b[0m \u001b[0;34m=\u001b[0m \u001b[0mCancelledError\u001b[0m\u001b[0;34m(\u001b[0m\u001b[0mkey\u001b[0m\u001b[0;34m)\u001b[0m\u001b[0;34m\u001b[0m\u001b[0;34m\u001b[0m\u001b[0m\n\u001b[1;32m   1667\u001b[0m                         \u001b[0;32melse\u001b[0m\u001b[0;34m:\u001b[0m\u001b[0;34m\u001b[0m\u001b[0;34m\u001b[0m\u001b[0m\n\u001b[0;32m-> 1668\u001b[0;31m                             \u001b[0msix\u001b[0m\u001b[0;34m.\u001b[0m\u001b[0mreraise\u001b[0m\u001b[0;34m(\u001b[0m\u001b[0mtype\u001b[0m\u001b[0;34m(\u001b[0m\u001b[0mexception\u001b[0m\u001b[0;34m)\u001b[0m\u001b[0;34m,\u001b[0m \u001b[0mexception\u001b[0m\u001b[0;34m,\u001b[0m \u001b[0mtraceback\u001b[0m\u001b[0;34m)\u001b[0m\u001b[0;34m\u001b[0m\u001b[0;34m\u001b[0m\u001b[0m\n\u001b[0m\u001b[1;32m   1669\u001b[0m                         \u001b[0;32mraise\u001b[0m \u001b[0mexc\u001b[0m\u001b[0;34m\u001b[0m\u001b[0;34m\u001b[0m\u001b[0m\n\u001b[1;32m   1670\u001b[0m                     \u001b[0;32mif\u001b[0m \u001b[0merrors\u001b[0m \u001b[0;34m==\u001b[0m \u001b[0;34m\"skip\"\u001b[0m\u001b[0;34m:\u001b[0m\u001b[0;34m\u001b[0m\u001b[0;34m\u001b[0m\u001b[0m\n",
      "\u001b[0;32m~/.conda/envs/tutorial/lib/python3.7/site-packages/six.py\u001b[0m in \u001b[0;36mreraise\u001b[0;34m(tp, value, tb)\u001b[0m\n\u001b[1;32m    690\u001b[0m                 \u001b[0mvalue\u001b[0m \u001b[0;34m=\u001b[0m \u001b[0mtp\u001b[0m\u001b[0;34m(\u001b[0m\u001b[0;34m)\u001b[0m\u001b[0;34m\u001b[0m\u001b[0;34m\u001b[0m\u001b[0m\n\u001b[1;32m    691\u001b[0m             \u001b[0;32mif\u001b[0m \u001b[0mvalue\u001b[0m\u001b[0;34m.\u001b[0m\u001b[0m__traceback__\u001b[0m \u001b[0;32mis\u001b[0m \u001b[0;32mnot\u001b[0m \u001b[0mtb\u001b[0m\u001b[0;34m:\u001b[0m\u001b[0;34m\u001b[0m\u001b[0;34m\u001b[0m\u001b[0m\n\u001b[0;32m--> 692\u001b[0;31m                 \u001b[0;32mraise\u001b[0m \u001b[0mvalue\u001b[0m\u001b[0;34m.\u001b[0m\u001b[0mwith_traceback\u001b[0m\u001b[0;34m(\u001b[0m\u001b[0mtb\u001b[0m\u001b[0;34m)\u001b[0m\u001b[0;34m\u001b[0m\u001b[0;34m\u001b[0m\u001b[0m\n\u001b[0m\u001b[1;32m    693\u001b[0m             \u001b[0;32mraise\u001b[0m \u001b[0mvalue\u001b[0m\u001b[0;34m\u001b[0m\u001b[0;34m\u001b[0m\u001b[0m\n\u001b[1;32m    694\u001b[0m         \u001b[0;32mfinally\u001b[0m\u001b[0;34m:\u001b[0m\u001b[0;34m\u001b[0m\u001b[0;34m\u001b[0m\u001b[0m\n",
      "\u001b[0;32m~/.conda/envs/tutorial/lib/python3.7/site-packages/dask/dataframe/io/hdf.py\u001b[0m in \u001b[0;36m_pd_to_hdf\u001b[0;34m()\u001b[0m\n\u001b[1;32m     30\u001b[0m         \u001b[0mlock\u001b[0m\u001b[0;34m.\u001b[0m\u001b[0macquire\u001b[0m\u001b[0;34m(\u001b[0m\u001b[0;34m)\u001b[0m\u001b[0;34m\u001b[0m\u001b[0;34m\u001b[0m\u001b[0m\n\u001b[1;32m     31\u001b[0m     \u001b[0;32mtry\u001b[0m\u001b[0;34m:\u001b[0m\u001b[0;34m\u001b[0m\u001b[0;34m\u001b[0m\u001b[0m\n\u001b[0;32m---> 32\u001b[0;31m         \u001b[0mpd_to_hdf\u001b[0m\u001b[0;34m(\u001b[0m\u001b[0;34m*\u001b[0m\u001b[0margs\u001b[0m\u001b[0;34m,\u001b[0m \u001b[0;34m**\u001b[0m\u001b[0mkwargs\u001b[0m\u001b[0;34m)\u001b[0m\u001b[0;34m\u001b[0m\u001b[0;34m\u001b[0m\u001b[0m\n\u001b[0m\u001b[1;32m     33\u001b[0m     \u001b[0;32mfinally\u001b[0m\u001b[0;34m:\u001b[0m\u001b[0;34m\u001b[0m\u001b[0;34m\u001b[0m\u001b[0m\n\u001b[1;32m     34\u001b[0m         \u001b[0;32mif\u001b[0m \u001b[0mlock\u001b[0m\u001b[0;34m:\u001b[0m\u001b[0;34m\u001b[0m\u001b[0;34m\u001b[0m\u001b[0m\n",
      "\u001b[0;32m~/.conda/envs/tutorial/lib/python3.7/site-packages/pandas/core/generic.py\u001b[0m in \u001b[0;36mto_hdf\u001b[0;34m()\u001b[0m\n\u001b[1;32m   2528\u001b[0m         \u001b[0;32mfrom\u001b[0m \u001b[0mpandas\u001b[0m\u001b[0;34m.\u001b[0m\u001b[0mio\u001b[0m \u001b[0;32mimport\u001b[0m \u001b[0mpytables\u001b[0m\u001b[0;34m\u001b[0m\u001b[0;34m\u001b[0m\u001b[0m\n\u001b[1;32m   2529\u001b[0m \u001b[0;34m\u001b[0m\u001b[0m\n\u001b[0;32m-> 2530\u001b[0;31m         \u001b[0mpytables\u001b[0m\u001b[0;34m.\u001b[0m\u001b[0mto_hdf\u001b[0m\u001b[0;34m(\u001b[0m\u001b[0mpath_or_buf\u001b[0m\u001b[0;34m,\u001b[0m \u001b[0mkey\u001b[0m\u001b[0;34m,\u001b[0m \u001b[0mself\u001b[0m\u001b[0;34m,\u001b[0m \u001b[0;34m**\u001b[0m\u001b[0mkwargs\u001b[0m\u001b[0;34m)\u001b[0m\u001b[0;34m\u001b[0m\u001b[0;34m\u001b[0m\u001b[0m\n\u001b[0m\u001b[1;32m   2531\u001b[0m \u001b[0;34m\u001b[0m\u001b[0m\n\u001b[1;32m   2532\u001b[0m     \u001b[0;32mdef\u001b[0m \u001b[0mto_msgpack\u001b[0m\u001b[0;34m(\u001b[0m\u001b[0mself\u001b[0m\u001b[0;34m,\u001b[0m \u001b[0mpath_or_buf\u001b[0m\u001b[0;34m=\u001b[0m\u001b[0;32mNone\u001b[0m\u001b[0;34m,\u001b[0m \u001b[0mencoding\u001b[0m\u001b[0;34m=\u001b[0m\u001b[0;34m\"utf-8\"\u001b[0m\u001b[0;34m,\u001b[0m \u001b[0;34m**\u001b[0m\u001b[0mkwargs\u001b[0m\u001b[0;34m)\u001b[0m\u001b[0;34m:\u001b[0m\u001b[0;34m\u001b[0m\u001b[0;34m\u001b[0m\u001b[0m\n",
      "\u001b[0;32m~/.conda/envs/tutorial/lib/python3.7/site-packages/pandas/io/pytables.py\u001b[0m in \u001b[0;36mto_hdf\u001b[0;34m()\u001b[0m\n\u001b[1;32m    274\u001b[0m     \u001b[0;32mif\u001b[0m \u001b[0misinstance\u001b[0m\u001b[0;34m(\u001b[0m\u001b[0mpath_or_buf\u001b[0m\u001b[0;34m,\u001b[0m \u001b[0mstr\u001b[0m\u001b[0;34m)\u001b[0m\u001b[0;34m:\u001b[0m\u001b[0;34m\u001b[0m\u001b[0;34m\u001b[0m\u001b[0m\n\u001b[1;32m    275\u001b[0m         with HDFStore(\n\u001b[0;32m--> 276\u001b[0;31m             \u001b[0mpath_or_buf\u001b[0m\u001b[0;34m,\u001b[0m \u001b[0mmode\u001b[0m\u001b[0;34m=\u001b[0m\u001b[0mmode\u001b[0m\u001b[0;34m,\u001b[0m \u001b[0mcomplevel\u001b[0m\u001b[0;34m=\u001b[0m\u001b[0mcomplevel\u001b[0m\u001b[0;34m,\u001b[0m \u001b[0mcomplib\u001b[0m\u001b[0;34m=\u001b[0m\u001b[0mcomplib\u001b[0m\u001b[0;34m\u001b[0m\u001b[0;34m\u001b[0m\u001b[0m\n\u001b[0m\u001b[1;32m    277\u001b[0m         ) as store:\n\u001b[1;32m    278\u001b[0m             \u001b[0mf\u001b[0m\u001b[0;34m(\u001b[0m\u001b[0mstore\u001b[0m\u001b[0;34m)\u001b[0m\u001b[0;34m\u001b[0m\u001b[0;34m\u001b[0m\u001b[0m\n",
      "\u001b[0;32m~/.conda/envs/tutorial/lib/python3.7/site-packages/pandas/io/pytables.py\u001b[0m in \u001b[0;36m__init__\u001b[0;34m()\u001b[0m\n\u001b[1;32m    482\u001b[0m             \u001b[0;32mraise\u001b[0m \u001b[0mValueError\u001b[0m\u001b[0;34m(\u001b[0m\u001b[0;34m\"format is not a defined argument for HDFStore\"\u001b[0m\u001b[0;34m)\u001b[0m\u001b[0;34m\u001b[0m\u001b[0;34m\u001b[0m\u001b[0m\n\u001b[1;32m    483\u001b[0m \u001b[0;34m\u001b[0m\u001b[0m\n\u001b[0;32m--> 484\u001b[0;31m         \u001b[0mtables\u001b[0m \u001b[0;34m=\u001b[0m \u001b[0mimport_optional_dependency\u001b[0m\u001b[0;34m(\u001b[0m\u001b[0;34m\"tables\"\u001b[0m\u001b[0;34m)\u001b[0m\u001b[0;34m\u001b[0m\u001b[0;34m\u001b[0m\u001b[0m\n\u001b[0m\u001b[1;32m    485\u001b[0m \u001b[0;34m\u001b[0m\u001b[0m\n\u001b[1;32m    486\u001b[0m         \u001b[0;32mif\u001b[0m \u001b[0mcomplib\u001b[0m \u001b[0;32mis\u001b[0m \u001b[0;32mnot\u001b[0m \u001b[0;32mNone\u001b[0m \u001b[0;32mand\u001b[0m \u001b[0mcomplib\u001b[0m \u001b[0;32mnot\u001b[0m \u001b[0;32min\u001b[0m \u001b[0mtables\u001b[0m\u001b[0;34m.\u001b[0m\u001b[0mfilters\u001b[0m\u001b[0;34m.\u001b[0m\u001b[0mall_complibs\u001b[0m\u001b[0;34m:\u001b[0m\u001b[0;34m\u001b[0m\u001b[0;34m\u001b[0m\u001b[0m\n",
      "\u001b[0;32m~/.conda/envs/tutorial/lib/python3.7/site-packages/pandas/compat/_optional.py\u001b[0m in \u001b[0;36mimport_optional_dependency\u001b[0;34m()\u001b[0m\n\u001b[1;32m     91\u001b[0m     \u001b[0;32mexcept\u001b[0m \u001b[0mImportError\u001b[0m\u001b[0;34m:\u001b[0m\u001b[0;34m\u001b[0m\u001b[0;34m\u001b[0m\u001b[0m\n\u001b[1;32m     92\u001b[0m         \u001b[0;32mif\u001b[0m \u001b[0mraise_on_missing\u001b[0m\u001b[0;34m:\u001b[0m\u001b[0;34m\u001b[0m\u001b[0;34m\u001b[0m\u001b[0m\n\u001b[0;32m---> 93\u001b[0;31m             \u001b[0;32mraise\u001b[0m \u001b[0mImportError\u001b[0m\u001b[0;34m(\u001b[0m\u001b[0mmessage\u001b[0m\u001b[0;34m.\u001b[0m\u001b[0mformat\u001b[0m\u001b[0;34m(\u001b[0m\u001b[0mname\u001b[0m\u001b[0;34m=\u001b[0m\u001b[0mname\u001b[0m\u001b[0;34m,\u001b[0m \u001b[0mextra\u001b[0m\u001b[0;34m=\u001b[0m\u001b[0mextra\u001b[0m\u001b[0;34m)\u001b[0m\u001b[0;34m)\u001b[0m \u001b[0;32mfrom\u001b[0m \u001b[0;32mNone\u001b[0m\u001b[0;34m\u001b[0m\u001b[0;34m\u001b[0m\u001b[0m\n\u001b[0m\u001b[1;32m     94\u001b[0m         \u001b[0;32melse\u001b[0m\u001b[0;34m:\u001b[0m\u001b[0;34m\u001b[0m\u001b[0;34m\u001b[0m\u001b[0m\n\u001b[1;32m     95\u001b[0m             \u001b[0;32mreturn\u001b[0m \u001b[0;32mNone\u001b[0m\u001b[0;34m\u001b[0m\u001b[0;34m\u001b[0m\u001b[0m\n",
      "\u001b[0;31mImportError\u001b[0m: Missing optional dependency 'tables'.  Use pip or conda to install tables."
     ]
    }
   ],
   "source": [
    "import dask.dataframe as dd\n",
    "\n",
    "ddf = dd.read_csv(os.path.join(nytaxi_directory, \"*.csv\"))\n",
    "dd.to_hdf(ddf, \"/data\", nytaxi_parquet_directory)"
   ]
  },
  {
   "cell_type": "markdown",
   "metadata": {
    "slideshow": {
     "slide_type": "slide"
    }
   },
   "source": [
    "## Remote files\n",
    "\n",
    "* Files are not always local to the worker.\n",
    "* In HPC systems, there is often a cluster filesystem \n",
    "* Otherwise:\n",
    " * Filesystems: http://dask.pydata.org/en/latest/remote-data-services.html\n",
    " * Simple Storage: https://github.com/mbr/simplekv / https://github.com/blue-yonder/storefact\n",
    "* Table management w/ atomic mutations, indexing, etc.: https://github.com/JDASoftwareGroup/kartothek"
   ]
  }
 ],
 "metadata": {
  "anaconda-cloud": {},
  "celltoolbar": "Slideshow",
  "kernelspec": {
   "display_name": "Python 3",
   "language": "python",
   "name": "python3"
  },
  "language_info": {
   "codemirror_mode": {
    "name": "ipython",
    "version": 3
   },
   "file_extension": ".py",
   "mimetype": "text/x-python",
   "name": "python",
   "nbconvert_exporter": "python",
   "pygments_lexer": "ipython3",
   "version": "3.7.3"
  }
 },
 "nbformat": 4,
 "nbformat_minor": 4
}
