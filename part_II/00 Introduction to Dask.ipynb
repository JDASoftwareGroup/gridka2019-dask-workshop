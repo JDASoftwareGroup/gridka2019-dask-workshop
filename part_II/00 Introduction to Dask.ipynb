{
 "cells": [
  {
   "cell_type": "markdown",
   "metadata": {
    "slideshow": {
     "slide_type": "slide"
    }
   },
   "source": [
    "# Dask / distributed"
   ]
  },
  {
   "cell_type": "markdown",
   "metadata": {
    "slideshow": {
     "slide_type": "slide"
    }
   },
   "source": [
    "## Introduction\n",
    "\n",
    "* a parallel computing library that scales the existing Python ecosystem.\n",
    "* scales down to your laptop laptop\n",
    "* sclaes up to a cluster."
   ]
  },
  {
   "cell_type": "markdown",
   "metadata": {
    "slideshow": {
     "slide_type": "slide"
    }
   },
   "source": [
    "## More than a single CPU\n",
    "\n",
    "* multi-core and distributed parallel execution\n",
    "* low-level: task schedulers for computation graphs\n",
    "* high-level: Array, Bag and DataFrame"
   ]
  },
  {
   "cell_type": "markdown",
   "metadata": {
    "slideshow": {
     "slide_type": "slide"
    }
   },
   "source": [
    "## Installation\n",
    "\n",
    "* conda: \n",
    "  ```\n",
    "  conda create -n dask-env python=3.6 \\\n",
    "      dask distributed\n",
    "  ```\n",
    "* pip: \n",
    "  ```\n",
    "  virtualenv dask-env -p python3.6\n",
    "  source ./dask-env/bin/activate\n",
    "  pip install dask distributed\n",
    "  ```"
   ]
  },
  {
   "cell_type": "markdown",
   "metadata": {
    "slideshow": {
     "slide_type": "slide"
    }
   },
   "source": [
    "## Ecosystem\n",
    "\n",
    "* Distributed ML: https://dask-ml.readthedocs.io/en/latest/\n",
    "* Part of http://pangeo.io/ (Climate Science)"
   ]
  },
  {
   "cell_type": "markdown",
   "metadata": {
    "slideshow": {
     "slide_type": "slide"
    }
   },
   "source": [
    "## What about Spark?\n",
    "\n",
    "Dask is\n",
    "\n",
    "* More light-weight\n",
    "* In Python, operates well with C/C++/Fortran/LLVM or other natively compiled code\n",
    "* Part of the Python ecosystem"
   ]
  },
  {
   "cell_type": "markdown",
   "metadata": {
    "slideshow": {
     "slide_type": "slide"
    }
   },
   "source": [
    "## What about Spark?\n",
    "\n",
    "Spark is\n",
    "\n",
    "* Written in Scala and works well within the JVM\n",
    "* Python support is very limited\n",
    "* Brings its own ecosystem\n",
    "* Able to provide more higher level optimizations"
   ]
  }
 ],
 "metadata": {
  "celltoolbar": "Slideshow",
  "kernelspec": {
   "display_name": "Python 3",
   "language": "python",
   "name": "python3"
  },
  "language_info": {
   "codemirror_mode": {
    "name": "ipython",
    "version": 3
   },
   "file_extension": ".py",
   "mimetype": "text/x-python",
   "name": "python",
   "nbconvert_exporter": "python",
   "pygments_lexer": "ipython3",
   "version": "3.6.6"
  }
 },
 "nbformat": 4,
 "nbformat_minor": 2
}
