{
 "cells": [
  {
   "cell_type": "markdown",
   "metadata": {
    "slideshow": {
     "slide_type": "slide"
    }
   },
   "source": [
    "# Environment setup"
   ]
  },
  {
   "cell_type": "markdown",
   "metadata": {
    "slideshow": {
     "slide_type": "slide"
    }
   },
   "source": [
    "## (virtual) environment\n",
    "\n",
    "* This example uses https://conda.io/miniconda.html\n",
    "* Alternatives:\n",
    " * virtualenv\n",
    " * python -m venv"
   ]
  },
  {
   "cell_type": "markdown",
   "metadata": {
    "slideshow": {
     "slide_type": "slide"
    }
   },
   "source": [
    "## Create a conda environment\n",
    "\n",
    "```\n",
    "conda create -n some-env python=3.7\n",
    "conda activate some-env\n",
    "conda install pandas jupyterlab\n",
    "```\n",
    "\n",
    "or from an environment.yml file\n",
    "\n",
    "```\n",
    "conda env create -f environment.yml\n",
    "``` "
   ]
  },
  {
   "cell_type": "markdown",
   "metadata": {
    "slideshow": {
     "slide_type": "slide"
    }
   },
   "source": [
    "## `.condarc`\n",
    "\n",
    "```\n",
    "show_channel_urls: true\n",
    "channels:\n",
    "  - conda-forge\n",
    "  - defaults\n",
    "add_pip_as_python_dependency: true\n",
    "```"
   ]
  },
  {
   "cell_type": "markdown",
   "metadata": {
    "slideshow": {
     "slide_type": "slide"
    }
   },
   "source": [
    "Start the notebook:\n",
    "    \n",
    "    jupyter lab --allow-root --ip 0.0.0.0 --port 8888\n",
    "    \n",
    "You can then access the notebook in your lokal browser with the url and token given in the terminal, replacing the 0.0.0.0 with the ip adress of your VM."
   ]
  },
  {
   "cell_type": "code",
   "execution_count": null,
   "metadata": {},
   "outputs": [],
   "source": [
    ""
   ]
  }
 ],
 "metadata": {
  "celltoolbar": "Slideshow",
  "kernelspec": {
   "display_name": "Python 3",
   "language": "python",
   "name": "python3"
  },
  "language_info": {
   "codemirror_mode": {
    "name": "ipython",
    "version": 3.0
   },
   "file_extension": ".py",
   "mimetype": "text/x-python",
   "name": "python",
   "nbconvert_exporter": "python",
   "pygments_lexer": "ipython3",
   "version": "3.7.3"
  }
 },
 "nbformat": 4,
 "nbformat_minor": 0
}